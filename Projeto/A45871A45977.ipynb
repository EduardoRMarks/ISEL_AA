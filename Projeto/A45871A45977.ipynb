{
 "cells": [
  {
   "cell_type": "markdown",
   "metadata": {},
   "source": [
    "<center>\n",
    "<img src=\"https://2223moodle.isel.pt/pluginfile.php/1/theme_adaptable/logo/1631635830/logo-isel_inv3.png\" width=\"250\">\n",
    "<h3>Licenciatura em Engenharia Informática e Multimédia</h3><br>\n",
    "Ano Letivo 2023/2024<br>\n",
    "<h3>Aprendizagem Automática (AA)</h3>\n",
    "<h3>Projeto Final - Rate Beer Dataset</h3> \n",
    "\n",
    "\n",
    "<center> \n",
    "<br>\n",
    "Ricardo Vieira <b>A45871</b><br>\n",
    "Eduardo Marques <b>A45977</b><br>\n",
    "Turma 52D<br><br>\n",
    "Docente: Engenheiro Gonçalo Xufre<br> \n",
    "21 de Janeiro 2024\n",
    "</center>\n",
    "</center>"
   ]
  },
  {
   "cell_type": "markdown",
   "metadata": {},
   "source": [
    "***\n",
    "<br>\n",
    "<a id='section0'></a>\n",
    "<center><h2><b>Índice</b></h2></center>\n",
    "\n",
    "- [Introdução](#section1)\n",
    "- [Conceitos Teóricos](#section2)\n",
    "- [Procedimento](#section3)\n",
    "- [Funções Auxiliares](#section4)\n",
    "- [Desenvolvimento](#section5)\n",
    "- [Classificador 1: Regressão Logística](#section6)\n",
    "- [Classificador 2: SVM - Support Vector Machine](#section7)\n",
    "- [Classificador 3: Multinomial Naive Bayes](#section8)\n",
    "- [Comparação de Resultados](#section9)"
   ]
  },
  {
   "cell_type": "code",
   "execution_count": 23,
   "metadata": {},
   "outputs": [],
   "source": [
    "# Lista de imports\n",
    "import cv2 \n",
    "import itertools\n",
    "import nltk\n",
    "import pandas\n",
    "import pickle\n",
    "import re\n",
    "import sklearn\n",
    "import time\n",
    "import os\n",
    "\n",
    "import numpy as np\n",
    "import scipy.linalg as la\n",
    "import matplotlib.pyplot as plt\n",
    "from itertools import product\n",
    "\n",
    "from sklearn.cluster import MiniBatchKMeans\n",
    "from sklearn.decomposition import TruncatedSVD\n",
    "from sklearn.feature_extraction.text import TfidfVectorizer\n",
    "from sklearn.linear_model import LogisticRegression\n",
    "from sklearn.metrics import precision_recall_curve, confusion_matrix, roc_curve\n",
    "from sklearn.model_selection import train_test_split, cross_val_score, GridSearchCV\n",
    "from sklearn.naive_bayes import MultinomialNB\n",
    "from sklearn.neighbors import KNeighborsClassifier\n",
    "from sklearn.svm import LinearSVC"
   ]
  },
  {
   "cell_type": "markdown",
   "metadata": {},
   "source": [
    "<a id='section1'></a>\n",
    "# <center><br><b>Introdução</b></center>\n",
    "Como projeto final da Unidade Curricular de Aprendizagem Automática, foi-nos proposto um problema de classificação que tem como objetivo determinar a qualidade de uma cerveja através dos comentários acerca desta. As duas tarefas de classificação pedidas no enunciado são as seguintes:\n",
    "- **Classificação Binária:** Nesta tarefa, pretende-se saber se o crítico considera a cerveja muito boa ou muito má, através do comentário. Uma cerveja é considerada muito boa quando obteve uma pontuação global de 9 ou mais valores. Pelo contrário, uma cerveja é considerada muito má quando pontuação global é de 2 ou menos valores.\n",
    "- **Classificação Multiclasse:** Esta tarefa serve para prever a pontuacão de três aspetos das críticas (smell, taste e overall). Neste ponto, são treinados e avaliados os classificadores com os dados de treino e é feita a comparação do desempenho em relação aos dados de teste.\n",
    "\n",
    "Para isso foram fornecidos dois ficheiros <i>pickle</i>: <b>rateBeer75Ktrain.p</b> para treino, com 75000 críticas de cerveja, e <b>rateBeer25Ktest.p</b> para teste com 25000 críticas. É com estes dados, que foram recolhidos ao longo de um período de dez anos, que vamos trabalhar e explicar cada passo efetuado."
   ]
  },
  {
   "cell_type": "markdown",
   "metadata": {},
   "source": [
    "<a id='section2'></a>\n",
    "# <center><br><br><b>Conceitos Teóricos</b></center>\n",
    "<a id='section2-1'></a>\n",
    "Antes de partirmos para a parte prática que envolve o código realizado, temos de ter presentes alguns conceitos teóricos que são naturalmente muito importantes para a realização do trabalho de modo a entendermos melhor o que nos é pedido, e aquilo em que consiste cada passo. Abaixo são enumerados alguns destes temas com uma breve explicação teórica e de que forma podem ser abordados no trabalho prático.\n",
    "\n",
    "## Pré-Processamento \n",
    "Este é o primeiro passo a ser efetuado assim que extraímos os dados e vai ser extremamente importante neste trabalho como iremos ver de seguida. Tem como objetivo \"limpar\" os dados extraídos e transformá-los no tipo de dados que estamos à espera, de acordo com aquilo que se pretende.<br>\n",
    "Este passo de pré-processamento é necessário uma vez que estamos a tratar uma enorme quantidade de dados que foram retirados de um site de criticas, onde não podemos controlar aquilo que cada pessoa escreve. Por isso, antes de usarmos estes dados nos passos seguintes, podemos convertê-los para um formato adequado, de forma a que seja mais fácil para a máquina de os processar, evitando ao mesmo tempo potenciais erros.<br>\n",
    "Como não queremos ter um vocabulário demasiado extenso e com palavras desnecessárias, os dados serão \"limpos\" da mesma forma para todos os ficheiros, garantindo desta forma que mantemos o padrão e que guardamos apenas as palavras que mais nos interessam.\n",
    "<br><br>\n",
    "<a id='section2-2'></a>\n",
    "## Aprendizagem Supervisionada \n",
    "Este tipo de aprendizagem, tal como o nome sugere, tem um \"supervisor\" e é usada para \"ensinar\" a máquina através de dados que já foram classificados. Por isso, quando for classificar os novos dados, vai comparar as características novas com aquelas que foram retiradas dos dados fornecidos anteriormente, de forma a associar os dados às classes adequadas.<br>\n",
    "Tem o lado positivo de permitir optimizar o critério de decisão com base na experiência passada, solucionando muitos problemas do mundo real. Por outro lado, a classificação de dados de larga escala pode ser um desafio, precisando de muito tempo e carga computacional.<br>\n",
    "A principal vantagem deste método é a capacidade de otimizar o critério de decisão com base na experiência passada, proporcionando soluções mais eficientes para diversos problemas do mundo real. No entanto, e apesar dos seus benefícios, é importante mencionar que a qualidade e representatividade dos dados de treino têm um papel crucial no desempenho do modelo. Além disso, o processo de treino é mais puxado em termos de recursos computacionais, especialmente quando lida com conjuntos de dados extensos e complexos.\n",
    "<br><br><br>\n",
    "## Aprendizagem não Supervisionada \n",
    "Por outro lado, a aprendizagem não supervisionada opera sem um \"supervisor\" e a sua principal função é analisar informações sem ter sido previamente instruída. Consiste em agrupar dados com base em semelhanças, padrões e diferenças, sem a necessidade de ter acesso prévio a conjuntos de dados. A aprendizagem não supervisionada destina-se a fazer descobertas autônomas e alguns exemplos de técnicas incluem o <b>Clustering</b> e a <b>Associação</b>. É por isso particularmente útil em cenários onde a estrutura dos dados é desconhecida ou não categorizada previamente.\n",
    "<br><br>\n",
    "Neste trabalho, estamos perante um caso de classificação sendo essa a Regressão Logistica.<b>Supervisionada</b>"
   ]
  },
  {
   "cell_type": "markdown",
   "metadata": {},
   "source": [
    "<a id='section3'></a>\n",
    "# <center><br><b>Procedimento</b></center>\n",
    "Importa começar por explicar a estrutura que será seguida na implementação:\\\n",
    "\\\n",
    "-1. Preparação de dados: Preparam-se funções e dados para o processo de vectorizer.\n",
    "\n",
    "-2. Calibração de Classificadores e tfidf Vectorizer: Vão ser procurados os melhores valores para a frequencia e padrão de tokens.\n",
    "\n",
    "-3. Análise Individual dos Resultados de cada Classificador\n",
    "\n",
    "-4. Comparação de Classificadores"
   ]
  },
  {
   "cell_type": "markdown",
   "metadata": {},
   "source": [
    "<a id='section4'/></a>\n",
    "# <center><br><br><b>Funções auxiliares</b></center>\n",
    "\n",
    "## Funções e Variáveis Auxiliares\n",
    "Nesta secção, apresenta-se uma série de funções auxiliares que serão úteis ao longo do trabalho. A descrição de cada função vem comentada acima de cada método"
   ]
  },
  {
   "cell_type": "code",
   "execution_count": 24,
   "metadata": {},
   "outputs": [],
   "source": [
    "# Recebe o nome de um ficheiro que contenha informação a ser lida como pickle.\n",
    "def openFile(filename):\n",
    "    return pickle.load(open(filename, 'rb'))\n",
    "\n",
    "# Escreve um ficheiro com informação em formato pickle.\n",
    "def dump_to_pickle(data, filename):\n",
    "    with open(filename, 'wb') as file:\n",
    "        pickle.dump(data, file)\n",
    "\n",
    "# Recebe um array com um ou mais documentos, limpando-os de forma a conter apenas em caracteres alfabéticos sem acentos.\n",
    "# Flag binary, por omissão a 0, indica a necessidade de descodificação binária\n",
    "def cleanFile(documentos, binary=False):\n",
    "    #Converte strings binárias para strings normais\n",
    "    if binary:\n",
    "        documentos = [doc.decode('UTF-8') for doc in documentos]\n",
    "        \n",
    "    #Remove marcas html de mudança de linha\n",
    "    documentos = [doc.replace('<br />', ' ') for doc in documentos]\n",
    "    \n",
    "    #Elimina todos os caracteres que não sejam alfabéticos\n",
    "    documentos = [re.sub('[^a-zA-Z0-9\\u00C0-\\u00FF/]' , ' ', doc) for doc in documentos]\n",
    "    \n",
    "    return documentos"
   ]
  },
  {
   "cell_type": "markdown",
   "metadata": {},
   "source": [
    "<a id='section5'/></a>\n",
    "# <center><br><br><b>Desenvolvimento</b></center>\n",
    "\n",
    "\n",
    "<a id='section5-1'/></a>\n",
    "## <center><br><br><b>Estudo dos dados</b></center>\n",
    "\n"
   ]
  },
  {
   "cell_type": "code",
   "execution_count": 25,
   "metadata": {},
   "outputs": [],
   "source": [
    "D_train = openFile('rateBeer75Ktrain.p')\n",
    "D_test = openFile('rateBeer25Ktest.p')"
   ]
  },
  {
   "cell_type": "code",
   "execution_count": 26,
   "metadata": {},
   "outputs": [
    {
     "data": {
      "image/png": "[encoded data removed]",
      "text/plain": [
       "<Figure size 1200x500 with 3 Axes>"
      ]
     },
     "metadata": {},
     "output_type": "display_data"
    }
   ],
   "source": [
    "# X de treino\n",
    "X1 = np.array([value[\"review\"] for value in D_train.values()])\n",
    "# y de treino\n",
    "y1Smell = np.array([value[\"smell\"][0] for value in D_train.values()])\n",
    "y1Taste = np.array([value[\"taste\"][0] for value in D_train.values()])\n",
    "y1Overall = np.array([value[\"overall\"][0] for value in D_train.values()])\n",
    "\n",
    "# X de teste\n",
    "X2 = np.array([value[\"review\"] for value in D_test.values()])\n",
    "# y de teste\n",
    "y2Smell = np.array([value[\"smell\"][0] for value in D_test.values()])\n",
    "y2Taste = np.array([value[\"taste\"][0] for value in D_test.values()])\n",
    "y2Overall = np.array([value[\"overall\"][0] for value in D_test.values()])\n",
    "\n",
    "labels_overall, counts_overall = np.unique(y1Overall, return_counts=True)\n",
    "labels_smell, counts_smell = np.unique(y1Smell, return_counts=True)\n",
    "labels_taste, counts_taste = np.unique(y1Taste, return_counts=True)\n",
    "\n",
    "# Criação dos subplots\n",
    "fig, axs = plt.subplots(1, 3, figsize=(12, 5))\n",
    "\n",
    "# Subplot 1\n",
    "axs[0].set_title('Criticas Overall')\n",
    "axs[0].bar(labels_overall, counts_overall, align='center')\n",
    "axs[0].set_xticks(np.arange(0, 9, step=1))\n",
    "axs[0].set_ylabel('Número de Críticas')\n",
    "axs[0].set_xlabel('Classificação')\n",
    "\n",
    "# Subplot 2\n",
    "axs[1].set_title('Criticas Smell')\n",
    "axs[1].bar(labels_smell, counts_smell, align='center')\n",
    "axs[1].set_xticks(np.arange(0, 5, step=1))\n",
    "axs[1].set_ylabel('Número de Críticas')\n",
    "axs[1].set_xlabel('Classificação')\n",
    "\n",
    "# Subplot 3\n",
    "axs[2].set_title('Criticas Taste')\n",
    "axs[2].bar(labels_taste, counts_taste, align='center')\n",
    "axs[2].set_xticks(np.arange(0, 5, step=1))\n",
    "axs[2].set_ylabel('Número de Críticas')\n",
    "axs[2].set_xlabel('Classificação')\n",
    "\n",
    "# Ajusta o espaçamento entre os subplots\n",
    "plt.subplots_adjust(wspace=0.5)\n",
    "\n",
    "# Mostra o gráfico\n",
    "plt.show()"
   ]
  },
  {
   "cell_type": "markdown",
   "metadata": {},
   "source": [
    "Para já começamos apenas por estudar os dados fornecidos, construindo o gráfico de barras acima para podermos observar melhor a distribuição dos dados de treino. Como era esperado, a classificação varia entre 1 e 9 e a grande maioria dos dados está concentrada nas classificações centrais, entre 4 e 7. Isto é um fator importante a considerar, principalmente para a <b>Classificação Binária</b> onde vamos apenas considerar as classificações muito más (2 ou menos) e muito boas (8 ou mais).\\\n",
    "No entanto, antes de passarmos à classificação, é necessário tratarmos da limpeza dos dados, como vimos anteriormente na definição de pré-processamento e da sua importância."
   ]
  },
  {
   "cell_type": "markdown",
   "metadata": {},
   "source": [
    "<a id='section5-2'/></a>\n",
    "## <center><br><br><b>Pré-Processamento dos dados</b></center>\n",
    "\n",
    "Nesta secção vamos começar por testar o método <i><b>cleanFile</b></i> que foi implementado no começo. Tal como o nome indica, o seu objetivo é limpar o texto recebido, de forma a que este esteja no formato correto para ser usado mais tarde pelo classificador. Este método converte strings binárias para strings normais, remove marcas HTML de mudança de linha, e ainda elimina todos os caracteres que não sejam alfabéticos ou acentuados.\n",
    "Para testar a função escolhemos uma critica e mostramos o seu conteúdo antes e após a limpeza dos dados."
   ]
  },
  {
   "cell_type": "markdown",
   "metadata": {},
   "source": [
    "<a id='section2-2-1'/></a>\n",
    "## Método cleanFile()"
   ]
  },
  {
   "cell_type": "code",
   "execution_count": 27,
   "metadata": {},
   "outputs": [
    {
     "name": "stdout",
     "output_type": "stream",
     "text": [
      "Crítica Conforme Lida: \n",
      " 22 oz. bottle from Plaza Liquors - Pours a clear golden color with a one finger thick off white head.  Nice lacing.  Aroma is floral and citrus hops.  Flavor is much of the same with some nice malt sweetness.  The hops linger in the finish.  Medium to full body.  A nice beer.\n",
      "\n",
      "Crítica Após Limpeza: \n",
      " 22 oz. bottle from Plaza Liquors - Pours a clear golden color with a one finger thick off white head.  Nice lacing.  Aroma is floral and citrus hops.  Flavor is much of the same with some nice malt sweetness.  The hops linger in the finish.  Medium to full body.  A nice beer.\n"
     ]
    }
   ],
   "source": [
    "print('Crítica Conforme Lida: \\n', X1[104])\n",
    "print()\n",
    "Docs_train = cleanFile(X1)\n",
    "print('Crítica Após Limpeza: \\n', X1[104])\n",
    "\n",
    "Docs_test = cleanFile(X2)"
   ]
  },
  {
   "cell_type": "markdown",
   "metadata": {},
   "source": [
    "<a id='section5-2-2'/></a>\n",
    "## Stemming\n",
    "\n",
    "Além de aplicarmos esta função vamos também ter um processo de stemming, que faz parte ainda do pré-processamento do texto e envolve a redução das palavras para as suas formas mais básicas, removendo sufixos e prefixos. O objetivo é simplificar as palavras ao máximo para que diferentes formas da mesma palavra sejam efetivamente convetidas na mesma, e possam ser classificadas como tal. Além disso ajuda também a reduzir a dimesão do texto e melhorar a eficiência na sua análise.\n",
    "\n",
    "O processo de stemming pode ser realizado por diferentes algoritmos, tais como:\n",
    "\n",
    "- <b>Porter Stemmer</b>: É o algoritmo clássico de stemming, utiliza um conjunto de regras para reduzir palavras à sua forma básica. \n",
    "\n",
    "- <b>Snowball Stemmer</b>: É uma versão melhorada do Porter Stemmer, desenvolvida para ser mais \"agressiva\" na redução das palavras.\n",
    "\n",
    "- <b>Lancaster Stemmer</b>: Outro algoritmo de stemming, também mais agressivo que o Porter Stemmer, resultando em palavras ainda mais curtas."
   ]
  },
  {
   "cell_type": "code",
   "execution_count": 28,
   "metadata": {},
   "outputs": [
    {
     "data": {
      "text/plain": [
       "\"\\nporterStemFunc = PorterStemmer()\\nDocs_train_PorterStem = [' '.join([porterStemFunc.stem(word) for word in doc.split()]) for doc in Docs_train]\\npickle.dump(Docs_train_PorterStem, open('docs_train_PorterStem.p', 'wb'))\\nDocs_test_PorterStem = [' '.join([porterStemFunc.stem(word) for word in doc.split()]) for doc in Docs_test]\\npickle.dump(Docs_test_PorterStem, open('docs_test_PorterStem.p', 'wb'))\\n\\nsnowballSteamFunc = SnowballStemmer('english')\\nDocs_train_SnowballStem = [' '.join([snowballSteamFunc.stem(word) for word in doc.split()]) for doc in Docs_train]\\npickle.dump(Docs_train_SnowballStem, open('docs_train_SnowballStem.p', 'wb'))\\nDocs_test_SnowballStem = [' '.join([snowballSteamFunc.stem(word) for word in doc.split()]) for doc in Docs_test]\\npickle.dump(Docs_test_SnowballStem, open('docs_test_SnowballStem.p', 'wb'))\\n\\nlancasterStemFunc = LancasterStemmer()\\nDocs_train_LancasterStem = [' '.join([lancasterStemFunc.stem(word) for word in doc.split()]) for doc in Docs_train]\\npickle.dump(Docs_train_LancasterStem, open('docs_train_LancasterStem.p', 'wb'))\\nDocs_test_LancasterStem = [' '.join([lancasterStemFunc.stem(word) for word in doc.split()]) for doc in Docs_test]\\npickle.dump(Docs_test_LancasterStem, open('docs_test_LancasterStem.p', 'wb'))\""
      ]
     },
     "execution_count": 28,
     "metadata": {},
     "output_type": "execute_result"
    }
   ],
   "source": [
    "from nltk.stem import PorterStemmer, SnowballStemmer, LancasterStemmer\n",
    "\n",
    "\n",
    "# Stemming das criticas\n",
    "\"\"\"\n",
    "porterStemFunc = PorterStemmer()\n",
    "Docs_train_PorterStem = [' '.join([porterStemFunc.stem(word) for word in doc.split()]) for doc in Docs_train]\n",
    "pickle.dump(Docs_train_PorterStem, open('docs_train_PorterStem.p', 'wb'))\n",
    "Docs_test_PorterStem = [' '.join([porterStemFunc.stem(word) for word in doc.split()]) for doc in Docs_test]\n",
    "pickle.dump(Docs_test_PorterStem, open('docs_test_PorterStem.p', 'wb'))\n",
    "\n",
    "snowballSteamFunc = SnowballStemmer('english')\n",
    "Docs_train_SnowballStem = [' '.join([snowballSteamFunc.stem(word) for word in doc.split()]) for doc in Docs_train]\n",
    "pickle.dump(Docs_train_SnowballStem, open('docs_train_SnowballStem.p', 'wb'))\n",
    "Docs_test_SnowballStem = [' '.join([snowballSteamFunc.stem(word) for word in doc.split()]) for doc in Docs_test]\n",
    "pickle.dump(Docs_test_SnowballStem, open('docs_test_SnowballStem.p', 'wb'))\n",
    "\n",
    "lancasterStemFunc = LancasterStemmer()\n",
    "Docs_train_LancasterStem = [' '.join([lancasterStemFunc.stem(word) for word in doc.split()]) for doc in Docs_train]\n",
    "pickle.dump(Docs_train_LancasterStem, open('docs_train_LancasterStem.p', 'wb'))\n",
    "Docs_test_LancasterStem = [' '.join([lancasterStemFunc.stem(word) for word in doc.split()]) for doc in Docs_test]\n",
    "pickle.dump(Docs_test_LancasterStem, open('docs_test_LancasterStem.p', 'wb'))\"\"\""
   ]
  },
  {
   "cell_type": "code",
   "execution_count": 29,
   "metadata": {},
   "outputs": [
    {
     "name": "stdout",
     "output_type": "stream",
     "text": [
      "Crítica antes de Stemming: \n",
      " Compliments of a trade with goldtwins, thanks!\tPoured dark with very little head.  Coffee bean and chocolate dominate from the start, slight sweetness in the middle and finishes with a bit of bitterness from the coffee.  A nice hefty porter for the winter months.\n",
      "\n",
      "Crítica após PorterStem: \n",
      " compliment of a trade with goldtwin thank pour dark with veri littl head coffe bean and chocol domin from the start slight sweet in the middl and finish with a bit of bitter from the coffe a nice hefti porter for the winter month\n",
      "\n",
      "Crítica após SnowballStem: \n",
      " compliment of a trade with goldtwin thank pour dark with veri littl head coff bean and chocol domin from the start slight sweet in the middl and finish with a bit of bitter from the coff a nice hefti porter for the winter month\n",
      "\n",
      "Crítica após LancasterStem: \n",
      " comply of a trad with goldtwin thank pour dark with ver littl head coff bean and chocol domin from the start slight sweet in the middl and fin with a bit of bit from the coff a nic heft port for the wint mon\n"
     ]
    }
   ],
   "source": [
    "X_train_PorterStem = openFile('docs_train_PorterStem.p')\n",
    "X_test_PorterStem = openFile('docs_test_PorterStem.p')\n",
    "X_train_SnowballStem = openFile('docs_train_SnowballStem.p')\n",
    "X_train_LancasterStem = openFile('docs_train_LancasterStem.p')\n",
    "\n",
    "print('Crítica antes de Stemming: \\n', X1[1])\n",
    "print()\n",
    "print('Crítica após PorterStem: \\n',X_train_PorterStem[1])\n",
    "print()\n",
    "print('Crítica após SnowballStem: \\n',X_train_SnowballStem[1])\n",
    "print()\n",
    "print('Crítica após LancasterStem: \\n',X_train_LancasterStem[1])"
   ]
  },
  {
   "cell_type": "markdown",
   "metadata": {},
   "source": [
    "Como podemos ver, e tal como era esperado, muitas das palavras são reduzidas para formas mais básicas ou curtas da mesma palavra, com o objetivo de reduzirmos ao máximo a dimensão do vocabulário."
   ]
  },
  {
   "cell_type": "markdown",
   "metadata": {},
   "source": [
    "<a id='section5-2-3'/></a>\n",
    "## Vetorização"
   ]
  },
  {
   "cell_type": "markdown",
   "metadata": {},
   "source": [
    "O último passo do pré-processamento é a vetorização, onde temos de entender alguns conceitos:\n",
    "\n",
    "- <b>TF-IDF</b> (Term Frequency-Inverse Document Frequency):\n",
    "TF-IDF é uma forma de avaliar a importância de uma palavra num conjunto de textos. Considera duas coisas:\n",
    "\n",
    "- <b>Frequência da palavra no Texto (TF)</b>: Se uma palavra aparece muitas vezes no texto, tem um TF alto para esse texto.\n",
    "\n",
    "- <b>Raridade da palavra é no Conjunto (IDF)</b>: Se uma palavra é rara em todo o conjunto de textos, tem um IDF alto.\n",
    "\n",
    "O valor final de TF-IDF é uma combinação dessas duas medidas. Palavras com pontuações TF-IDF mais altas são consideradas mais importantes e específicas para um texto, que é algo que devemos ter em consideração ao analisar as críticas.\n",
    "\n",
    "Existem ainda dois parâmetros importantes: <b>min_df</b> que define a quantidade mínima de vezes que uma palavra deve aparecer para ser incluída e <b>token_pattern</b> que define o padrão que uma palavra deve seguir para ser considerada.\n",
    "\n",
    "Além disso, queremos remover todas as <b>Stop Words</b> que encontrarmos. Isto são as palavras mais comuns como por exemplo \"e\", \"ou\", \"o\" e que não contribuem muito para o vocabulário. Ao removermos as Stop Words estamos apenas a focar-nos nas palavras mais importantes.\n",
    "\n",
    "Vamos então testar diferentes configurações para o modelo TF-IDF, criando combinações de valores para os parâmetros min_df e token_pattern. "
   ]
  },
  {
   "cell_type": "code",
   "execution_count": 30,
   "metadata": {},
   "outputs": [],
   "source": [
    "def process_tfidf_vectorizer(Docs, _min_df = 1,_token_pattern = r\"\\b\\w\\w\\w+\\b\", _stop_words = \"english\", _ngram_range = (1,1)):\n",
    "    tfidf=TfidfVectorizer(min_df=_min_df, token_pattern=_token_pattern, stop_words=_stop_words, ngram_range=_ngram_range).fit(Docs)\n",
    "    tokens=tfidf.get_feature_names_out()\n",
    "    \n",
    "    return tfidf, tokens"
   ]
  },
  {
   "cell_type": "code",
   "execution_count": 31,
   "metadata": {},
   "outputs": [
    {
     "name": "stderr",
     "output_type": "stream",
     "text": [
      "<>:1: SyntaxWarning: invalid escape sequence '\\w'\n",
      "<>:1: SyntaxWarning: invalid escape sequence '\\w'\n",
      "/var/folders/rm/wphhyvx14d30yhg_0366zmm80000gn/T/ipykernel_3994/3748634085.py:1: SyntaxWarning: invalid escape sequence '\\w'\n",
      "  \"\"\"dfs = [1,2,3]\n"
     ]
    },
    {
     "data": {
      "text/plain": [
       "'dfs = [1,2,3]\\ntps = [r\\'\\x08\\\\w\\\\w+\\x08\\', r\\'\\x08\\\\w\\\\w\\\\w+\\x08\\', r\\'\\x08\\\\w\\\\w\\\\w\\\\w+\\x08\\']\\ncombos = [(df,tp) for df in dfs for tp in tps]\\n\\n# Obtenção dos modelos tf-idf\\nresultadosSemStop = [len(TfidfVectorizer(min_df=df, token_pattern=tp).fit(X_train_PorterStem).get_feature_names_out()) for (df, tp) in combos]\\nresultadosComStop = [len(TfidfVectorizer(min_df=df, stop_words=\"english\", token_pattern=tp).fit(X_train_PorterStem).get_feature_names_out()) for (df, tp) in combos]\\n\\n# Escrita dos resultados num ficheiro\\npickle.dump({\\'resultados\\' : np.array(resultadosSemStop).reshape((3,3))}, open(\\'numero_palavras_sem_stop.p\\', \\'wb\\'))\\npickle.dump({\\'resultados\\' : np.array(resultadosComStop).reshape((3,3))}, open(\\'numero_palavras_com_stop.p\\', \\'wb\\'))'"
      ]
     },
     "execution_count": 31,
     "metadata": {},
     "output_type": "execute_result"
    }
   ],
   "source": [
    "\"\"\"dfs = [1,2,3]\n",
    "tps = [r'\\b\\w\\w+\\b', r'\\b\\w\\w\\w+\\b', r'\\b\\w\\w\\w\\w+\\b']\n",
    "combos = [(df,tp) for df in dfs for tp in tps]\n",
    "\n",
    "# Obtenção dos modelos tf-idf\n",
    "resultadosSemStop = [len(TfidfVectorizer(min_df=df, token_pattern=tp).fit(X_train_PorterStem).get_feature_names_out()) for (df, tp) in combos]\n",
    "resultadosComStop = [len(TfidfVectorizer(min_df=df, stop_words=\"english\", token_pattern=tp).fit(X_train_PorterStem).get_feature_names_out()) for (df, tp) in combos]\n",
    "\n",
    "# Escrita dos resultados num ficheiro\n",
    "pickle.dump({'resultados' : np.array(resultadosSemStop).reshape((3,3))}, open('numero_palavras_sem_stop.p', 'wb'))\n",
    "pickle.dump({'resultados' : np.array(resultadosComStop).reshape((3,3))}, open('numero_palavras_com_stop.p', 'wb'))\"\"\""
   ]
  },
  {
   "cell_type": "code",
   "execution_count": 32,
   "metadata": {},
   "outputs": [
    {
     "name": "stdout",
     "output_type": "stream",
     "text": [
      "[[44018 43384 40899]\n",
      " [21789 21275 19775]\n",
      " [16458 16002 14842]]\n",
      "\n",
      "[[43792 43188 40744]\n",
      " [21572 21088 19629]\n",
      " [16244 15818 14698]]\n"
     ]
    }
   ],
   "source": [
    "resultados1 = pickle.load(open('numero_palavras_sem_stop.p', 'rb'))['resultados']\n",
    "resultados2 = pickle.load(open('numero_palavras_com_stop.p', 'rb'))['resultados']\n",
    "print(resultados1)\n",
    "print()\n",
    "print(resultados2)"
   ]
  },
  {
   "cell_type": "markdown",
   "metadata": {},
   "source": [
    "Podemos verificar que não existe uma diferença significativa entre as frases com stop words e sem stop words. Com esta informação iremos utilizar as reviews sem stop words, visto que é uma pouca diferença.\n",
    "\n",
    "À medida que aumentamos a exigência da frequência mínima (min_df), o vocabulário torna-se mais restrito, contendo apenas palavras que aparecem com maior frequência nos documentos, excluindo as palavras menos frequentes. Podemos ainda observar que esta diferença é maior para valores mais baixos de frequência miníma, o que indica que há várias palavras que só aparecem uma ou duas vezes.\n",
    "\n",
    "Entre tps podemos verificar que a diferença não é muito acentuada pelo que iremos usar a expressão \"r'\\b\\w\\w\\w+\\b'\"\n",
    "\n",
    "Serão usados os parêmetros min_dif = 1 e token_pattern = r'\\b\\w\\w\\w+\\b' e stop_words=\"english\"."
   ]
  },
  {
   "cell_type": "markdown",
   "metadata": {},
   "source": [
    "## Limpeza"
   ]
  },
  {
   "cell_type": "code",
   "execution_count": 33,
   "metadata": {},
   "outputs": [
    {
     "name": "stdout",
     "output_type": "stream",
     "text": [
      "Tokens sem stop words:  ['00000000000' '00007738' '0001' '000th' '0013' '001880' '0019'\n",
      " '00802a1ba' '00am' '010308']\n"
     ]
    }
   ],
   "source": [
    "teste_antes_limpar = TfidfVectorizer(min_df=1, stop_words=\"english\", token_pattern=r'\\b\\w\\w\\w\\w+\\b').fit(X_train_PorterStem).get_feature_names_out()\n",
    "print(\"Tokens sem stop words: \", teste_antes_limpar[:10])"
   ]
  },
  {
   "cell_type": "markdown",
   "metadata": {},
   "source": [
    "Verificamos que ainda existem muitas palavras sem significado, pelo que teremos que as retirar antes de efetual a vetorização."
   ]
  },
  {
   "cell_type": "code",
   "execution_count": 34,
   "metadata": {},
   "outputs": [
    {
     "name": "stdout",
     "output_type": "stream",
     "text": [
      "Tokens sem stop words:  ['aaaaa' 'aaaaaaahhhh' 'aaaaaaight' 'aaaaaeeeeieee' 'aaaaah' 'aaaah'\n",
      " 'aaaahhahahahahhaaaaaaaa' 'aaaahhhhh' 'aaaanyway' 'aaahhh']\n",
      "Diferença do número de palavras:  2238\n"
     ]
    }
   ],
   "source": [
    "Docs_train_aux = [re.sub(r'[^a-zA-Z]', ' ', doc) for doc in X_train_PorterStem]\n",
    "teste_depois_limpar = TfidfVectorizer(min_df=1, stop_words=\"english\", token_pattern=r'\\b\\w\\w\\w\\w+\\b').fit(Docs_train_aux).get_feature_names_out()\n",
    "print(\"Tokens sem stop words: \", teste_depois_limpar[:10])\n",
    "\n",
    "print(\"Diferença do número de palavras: \", len(teste_antes_limpar) - len(teste_depois_limpar))"
   ]
  },
  {
   "cell_type": "markdown",
   "metadata": {},
   "source": [
    "Podemos verificar que continuam a existir palavras sem significado, mas já não exitem palavras com numeros, que era o objetivo. Verificamos ainda que houve uma diminuição de mais de 2000 palavras do vocabulário."
   ]
  },
  {
   "cell_type": "markdown",
   "metadata": {},
   "source": [
    "## Tratamento das reviews de treino e teste"
   ]
  },
  {
   "cell_type": "code",
   "execution_count": 35,
   "metadata": {},
   "outputs": [],
   "source": [
    "Docs_train_aux = [re.sub(r'[^a-zA-Z]', ' ', doc) for doc in X_train_PorterStem]\n",
    "Docs_test_aux = [re.sub(r'[^a-zA-Z]', ' ', doc) for doc in X_test_PorterStem]\n",
    "\n",
    "tfidf, train_tokens = process_tfidf_vectorizer(X_train_PorterStem)\n",
    "X_test = tfidf.transform(Docs_test_aux)\n",
    "X_train = tfidf.transform(Docs_train_aux)"
   ]
  },
  {
   "cell_type": "markdown",
   "metadata": {},
   "source": [
    "# Classificação Binária"
   ]
  },
  {
   "cell_type": "markdown",
   "metadata": {},
   "source": [
    "Na classificação binária é pretendido saber se um crítico considera uma cerveja muito boa ou muito má baseado no que escreveu. Para tal, uma cerveja é considerada muito boa quando se obtem uma pontuação global maior ou igual a 9 e muito má quando a pontuação global é menor ou igual a 2.\n",
    "\n",
    "Vamos começar então por efetuar a divisão dos conjuntos de treino e teste em dois conjuntos cada, um conjunto \"positivo\" e um \"negativo\""
   ]
  },
  {
   "cell_type": "code",
   "execution_count": 36,
   "metadata": {},
   "outputs": [
    {
     "name": "stdout",
     "output_type": "stream",
     "text": [
      "75000\n",
      "25000\n"
     ]
    }
   ],
   "source": [
    "y1Overall_aux = y1Overall.copy()\n",
    "y2Overall_aux = y2Overall.copy()\n",
    "\n",
    "print(y1Overall_aux.size)\n",
    "print(y2Overall_aux.size)\n",
    "\n",
    "y1_muito_bom = []\n",
    "y1_muito_mau = []\n",
    "\n",
    "y2_muito_bom = []\n",
    "y2_muito_mau = []\n",
    "\n",
    "for i in y1Overall_aux:\n",
    "    if i < '3':\n",
    "        y1_muito_mau.append(1)\n",
    "        y1_muito_bom.append(0)\n",
    "    elif i >= '9':\n",
    "        y1_muito_bom.append(1)\n",
    "        y1_muito_mau.append(0)\n",
    "    else:\n",
    "        y1_muito_bom.append(0)\n",
    "        y1_muito_mau.append(0)\n",
    "        \n",
    "for i in y2Overall_aux:\n",
    "    if i < '3':\n",
    "        y2_muito_mau.append(1)\n",
    "        y2_muito_bom.append(0)\n",
    "    elif i >= '9':\n",
    "        y2_muito_bom.append(1)\n",
    "        y2_muito_mau.append(0)\n",
    "    else:\n",
    "        y2_muito_bom.append(0)\n",
    "        y2_muito_mau.append(0)"
   ]
  },
  {
   "cell_type": "markdown",
   "metadata": {},
   "source": [
    "<a id='section6'/></a>\n",
    "# Classificador 1: Regressão logistica"
   ]
  },
  {
   "cell_type": "markdown",
   "metadata": {},
   "source": [
    "### Quais os melhores parâmetros"
   ]
  },
  {
   "cell_type": "code",
   "execution_count": 37,
   "metadata": {},
   "outputs": [
    {
     "data": {
      "text/plain": [
       "\"C_test = [0.1, 1, 10, 100]\\nmax_iter_test = [100, 1000, 10000]\\ntol_test = [0.0001, 0.001, 0.01, 0.1]\\n\\nparam_combinations = product(C_test, max_iter_test, tol_test)\\n\\nmelhores_vals = 0\\nmelhores_params = []\\n\\nfor C_test, max_iter_test, tol_test in param_combinations:\\n    dl_bom = LogisticRegression(penalty='l2', max_iter=max_iter_test, C=C_test, tol=tol_test)\\n    dl_bom.fit(X_train, y1_muito_bom)\\n    testing_score = dl_bom.score(X_train, y1_muito_bom)\\n    if testing_score > melhores_vals:\\n        melhores_vals = testing_score\\n        melhores_params = [C_test, max_iter_test, tol_test]\\n\\ndump_to_pickle(melhores_vals, 'melhores_vals_logistic_regression.p')\\ndump_to_pickle(melhores_params, 'melhores_params_logistic_regression.p')\""
      ]
     },
     "execution_count": 37,
     "metadata": {},
     "output_type": "execute_result"
    }
   ],
   "source": [
    "\"\"\"C_test = [0.1, 1, 10, 100]\n",
    "max_iter_test = [100, 1000, 10000]\n",
    "tol_test = [0.0001, 0.001, 0.01, 0.1]\n",
    "\n",
    "param_combinations = product(C_test, max_iter_test, tol_test)\n",
    "\n",
    "melhores_vals = 0\n",
    "melhores_params = []\n",
    "\n",
    "for C_test, max_iter_test, tol_test in param_combinations:\n",
    "    dl_bom = LogisticRegression(penalty='l2', max_iter=max_iter_test, C=C_test, tol=tol_test)\n",
    "    dl_bom.fit(X_train, y1_muito_bom)\n",
    "    testing_score = dl_bom.score(X_train, y1_muito_bom)\n",
    "    if testing_score > melhores_vals:\n",
    "        melhores_vals = testing_score\n",
    "        melhores_params = [C_test, max_iter_test, tol_test]\n",
    "\n",
    "dump_to_pickle(melhores_vals, 'melhores_vals_logistic_regression.p')\n",
    "dump_to_pickle(melhores_params, 'melhores_params_logistic_regression.p')\"\"\""
   ]
  },
  {
   "cell_type": "code",
   "execution_count": 38,
   "metadata": {},
   "outputs": [
    {
     "name": "stdout",
     "output_type": "stream",
     "text": [
      "Melhores parâmetros encontrados no teste anterior: Max iter:  1000 , C:  100  e tol:  0.0001\n",
      "Score de treino:  98.005 %\n"
     ]
    }
   ],
   "source": [
    "melhores_params_logistic_regression = openFile('melhores_params_logistic_regression.p')\n",
    "melhores_vals_logistic_regression = openFile('melhores_vals_logistic_regression.p')\n",
    "\n",
    "print(\"Melhores parâmetros encontrados no teste anterior: Max iter: \", melhores_params_logistic_regression[1] \n",
    "      ,\", C: \", melhores_params_logistic_regression[0] , \" e tol: \", melhores_params_logistic_regression[2])\n",
    "\n",
    "print('Score de treino: ', round(melhores_vals_logistic_regression*100, 3), '%')"
   ]
  },
  {
   "cell_type": "markdown",
   "metadata": {},
   "source": [
    "Foram encontrados, graças aos testes, os melhores valores mostrados anteriormente. Estes valores vão ser usados tanto para a classificação binária como para a classificação multi-classe, com o objetivo de poupar tempo.\n",
    "\n",
    "Para a classificação multi-classe teríamos de repetir estes testes mas usando os dados de teste certos, ou seja, overall inteiro, smell e taste, o que quereria dizer que iriamos repetir o procedimento para encontrar os parâmetros certos mais três vezes."
   ]
  },
  {
   "cell_type": "markdown",
   "metadata": {},
   "source": [
    "Inicializamos então o classificador para ser utilizado nas classificações binárias."
   ]
  },
  {
   "cell_type": "code",
   "execution_count": 39,
   "metadata": {},
   "outputs": [],
   "source": [
    "lr_bin = LogisticRegression(penalty='l2', max_iter=melhores_params_logistic_regression[1], \n",
    "                            C=melhores_params_logistic_regression[0], tol=melhores_params_logistic_regression[2])"
   ]
  },
  {
   "cell_type": "markdown",
   "metadata": {},
   "source": [
    "### Classificação binário das reviews muito boas"
   ]
  },
  {
   "cell_type": "code",
   "execution_count": 40,
   "metadata": {},
   "outputs": [
    {
     "name": "stdout",
     "output_type": "stream",
     "text": [
      "Score treino binário bom:  98.005 %\n",
      "Score teste binário bom:  95.452 %\n",
      "Matriz de confusão das reviews muito boas: \n",
      " [[23764   370]\n",
      " [  767    99]]\n",
      "Erros:  1137\n"
     ]
    }
   ],
   "source": [
    "lr_bin.fit(X_train, y1_muito_bom)\n",
    "score_train_bom = lr_bin.score(X_train, y1_muito_bom)\n",
    "score_test_bom = lr_bin.score(X_test, y2_muito_bom)\n",
    "print('Score treino binário bom: ', round(score_train_bom * 100, 3), '%')\n",
    "print('Score teste binário bom: ', round(score_test_bom * 100, 3), '%')\n",
    "\n",
    "CM_bom = confusion_matrix(y2_muito_bom, lr_bin.predict(X_test))\n",
    "print('Matriz de confusão das reviews muito boas: \\n', CM_bom)\n",
    "print('Erros: ', CM_bom[0][1] + CM_bom[1][0])"
   ]
  },
  {
   "cell_type": "markdown",
   "metadata": {},
   "source": [
    "### Classificação binária das reviews muito más"
   ]
  },
  {
   "cell_type": "code",
   "execution_count": 41,
   "metadata": {},
   "outputs": [
    {
     "name": "stdout",
     "output_type": "stream",
     "text": [
      "Score treino binário mau:  98.172 %\n",
      "Score teste binário mau:  89.36 %\n",
      "Matriz de confusão das reviews muito más: \n",
      " [[21590   736]\n",
      " [ 1924   750]]\n",
      "Erros:  2660\n"
     ]
    }
   ],
   "source": [
    "lr_bin.fit(X_train, y1_muito_mau)\n",
    "score_train_mau = lr_bin.score(X_train, y1_muito_mau)\n",
    "score_test_mau = lr_bin.score(X_test, y2_muito_mau)\n",
    "print('Score treino binário mau: ', round(score_train_mau * 100, 3), '%')\n",
    "print('Score teste binário mau: ', round(score_test_mau * 100, 3), '%')\n",
    "\n",
    "CM_mau = confusion_matrix(y2_muito_mau, lr_bin.predict(X_test))\n",
    "print('Matriz de confusão das reviews muito más: \\n', CM_mau)\n",
    "print('Erros: ', CM_mau[0][1] + CM_mau[1][0])"
   ]
  },
  {
   "cell_type": "code",
   "execution_count": 42,
   "metadata": {},
   "outputs": [
    {
     "data": {
      "image/png": "[encoded data removed]",
      "text/plain": [
       "<Figure size 400x400 with 1 Axes>"
      ]
     },
     "metadata": {},
     "output_type": "display_data"
    }
   ],
   "source": [
    "fpr, tpr, t = roc_curve(y2_muito_bom, lr_bin.decision_function(X_test))\n",
    "\n",
    "p1 = CM_bom[0,1]/(CM_bom[0,1] + CM_bom[0,0])\n",
    "p2 = CM_bom[1,1]/(CM_bom[1,1] + CM_bom[1,0])\n",
    "\n",
    "# Mostrar resultados...\n",
    "plt.figure(figsize=(4,4))\n",
    "\n",
    "# Plot da Curva ROC\n",
    "plt.plot(fpr,tpr, label='Curva ROC')\n",
    "\n",
    "# Plot dos Pontos\n",
    "plt.plot(p1, p2, 'o', label='Ponto Operacional')\n",
    "\n",
    "plt.title('Curva ROC e Ponto Operacional')\n",
    "plt.ylabel('Taxa de True Positive')\n",
    "plt.xlabel('Taxa de False Positive')\n",
    "plt.legend()\n",
    "plt.text(p1+0.06, p2-0.02, '(' + str(np.round(p1,3)) + ', ' + str(np.round(p2,3)) + ')' )\n",
    "plt.axis('scaled')\n",
    "plt.show()"
   ]
  },
  {
   "cell_type": "markdown",
   "metadata": {},
   "source": [
    "Com esta curva ROC, podemos ver que existe uma baixa taxa tanto de verdadeiros positivos como de falsos positivos, o que significa que não é um bom classificador."
   ]
  },
  {
   "cell_type": "markdown",
   "metadata": {},
   "source": [
    "# Classificação Multi-classe"
   ]
  },
  {
   "cell_type": "markdown",
   "metadata": {},
   "source": [
    "Na classificação multi-classe é pretendido treinar e avaliar classificadores com três dados de treino diferentes: smell, taste e overall."
   ]
  },
  {
   "cell_type": "markdown",
   "metadata": {},
   "source": [
    "# Classificador 1: Regressão logistica\n",
    "\n",
    "Como foi mencionado no classificador binário, irão ser utilizados os mesmos valores calculados para a avaliação binária com o propósito de poupar tempo de execução.\n",
    "\n",
    "Contudo, para serem encontrados os melhores valores, o procedimento a efetuar seria o mesmo usado anteriormente, onde iriamos testar vários parâmetros diferentes para cada tipo de dados de treino, sendo esses dados o \"smell\", \"taste\" e \"overall\"."
   ]
  },
  {
   "cell_type": "code",
   "execution_count": 43,
   "metadata": {},
   "outputs": [],
   "source": [
    "#mudamos o valor do max_iter para 5000 porque o valor anterior não era suficiente para convergir\n",
    "#tambem foi adicionado o parametro multi_class='multinomial' para que o modelo possa ser usado com mais de 2 classes\n",
    "lr_multiclass = LogisticRegression(penalty='l2', max_iter=5000, \n",
    "                                C=melhores_params_logistic_regression[0], \n",
    "                                tol=melhores_params_logistic_regression[2], multi_class='multinomial')"
   ]
  },
  {
   "cell_type": "markdown",
   "metadata": {},
   "source": [
    "# Reviews com classificação overall"
   ]
  },
  {
   "cell_type": "code",
   "execution_count": 44,
   "metadata": {},
   "outputs": [
    {
     "data": {
      "text/plain": [
       "\"lr_multiclass.fit(X_train, y1Overall)\\nscore_train_overall = round(lr_multiclass.score(X_train, y1Overall) * 100, 3)\\nscore_test_overall = round(lr_multiclass.score(X_test, y2Overall) * 100, 3)\\n\\nCM_overall = confusion_matrix(y2Overall, lr_multiclass.predict(X_test))\\nwith open('logistic_overall_results.p', 'wb') as file:\\n    pickle.dump({'confusion_matrix': CM_overall, 'train_score': score_train_overall, 'test_score':score_test_overall}, file)\""
      ]
     },
     "execution_count": 44,
     "metadata": {},
     "output_type": "execute_result"
    }
   ],
   "source": [
    "\"\"\"lr_multiclass.fit(X_train, y1Overall)\n",
    "score_train_overall = round(lr_multiclass.score(X_train, y1Overall) * 100, 3)\n",
    "score_test_overall = round(lr_multiclass.score(X_test, y2Overall) * 100, 3)\n",
    "\n",
    "CM_overall = confusion_matrix(y2Overall, lr_multiclass.predict(X_test))\n",
    "with open('logistic_overall_results.p', 'wb') as file:\n",
    "    pickle.dump({'confusion_matrix': CM_overall, 'train_score': score_train_overall, 'test_score':score_test_overall}, file)\"\"\""
   ]
  },
  {
   "cell_type": "code",
   "execution_count": 45,
   "metadata": {},
   "outputs": [
    {
     "name": "stdout",
     "output_type": "stream",
     "text": [
      "Score classificação overall train:  75.568 %\n",
      "Score classificação overall test:  25.524 %\n",
      "Matriz de confusão das reviews overall: \n",
      " [[ 271  230  262  290   80   78   69   76   43]\n",
      " [ 111  144  380  427  114   55   29   13    2]\n",
      " [ 100  184  578 1087  328  255  114   37   16]\n",
      " [ 122  172  626 2130 1140  892  420  160   40]\n",
      " [  79   41  220 1022  863  901  562  225   64]\n",
      " [  95   36  137  701  682 1124  743  372  120]\n",
      " [  98   15   68  369  456  803  758  454  178]\n",
      " [  69   10   34  142  182  392  487  375  182]\n",
      " [  57    3   13   58   64  129  206  198  138]]\n"
     ]
    }
   ],
   "source": [
    "Logistic_overall_results = openFile('logistic_overall_results.p')\n",
    "\n",
    "CM_overall = Logistic_overall_results['confusion_matrix']\n",
    "score_train_overall = Logistic_overall_results['train_score']\n",
    "score_test_overall = Logistic_overall_results['test_score']\n",
    "\n",
    "print('Score classificação overall train: ', score_train_overall, '%')\n",
    "print('Score classificação overall test: ', score_test_overall, '%')\n",
    "print('Matriz de confusão das reviews overall: \\n', CM_overall)"
   ]
  },
  {
   "cell_type": "markdown",
   "metadata": {},
   "source": [
    "# Reviews com classificação smell"
   ]
  },
  {
   "cell_type": "code",
   "execution_count": 46,
   "metadata": {},
   "outputs": [
    {
     "data": {
      "text/plain": [
       "\"lr_multiclass.fit(X_train, y1Smell)\\nscore_train_smell = round(lr_multiclass.score(X_train, y1Smell) * 100, 3)\\nscore_test_smell = round(lr_multiclass.score(X_test, y2Smell) * 100, 3)\\n\\nCM_smell = confusion_matrix(y2Smell, lr_multiclass.predict(X_test))\\nwith open('logistic_smell_results.p', 'wb') as file:\\n    pickle.dump({'confusion_matrix': CM_smell, 'train_score': score_train_smell, 'test_score':score_test_smell}, file)\""
      ]
     },
     "execution_count": 46,
     "metadata": {},
     "output_type": "execute_result"
    }
   ],
   "source": [
    "\"\"\"lr_multiclass.fit(X_train, y1Smell)\n",
    "score_train_smell = round(lr_multiclass.score(X_train, y1Smell) * 100, 3)\n",
    "score_test_smell = round(lr_multiclass.score(X_test, y2Smell) * 100, 3)\n",
    "\n",
    "CM_smell = confusion_matrix(y2Smell, lr_multiclass.predict(X_test))\n",
    "with open('logistic_smell_results.p', 'wb') as file:\n",
    "    pickle.dump({'confusion_matrix': CM_smell, 'train_score': score_train_smell, 'test_score':score_test_smell}, file)\"\"\""
   ]
  },
  {
   "cell_type": "code",
   "execution_count": 47,
   "metadata": {},
   "outputs": [
    {
     "name": "stdout",
     "output_type": "stream",
     "text": [
      "Score classificação smell train:  78.069 %\n",
      "Score classificação smell test:  40.208 %\n",
      "Matriz de confusão das reviews smell: \n",
      " [[2085 1491  990  272   60]\n",
      " [ 987 1898 2302  667   84]\n",
      " [ 598 1604 3811 1847  263]\n",
      " [ 153  449 1787 1992  448]\n",
      " [  46   74  297  529  266]]\n"
     ]
    }
   ],
   "source": [
    "Logistic_smell_results = openFile('logistic_smell_results.p')\n",
    "\n",
    "CM_smell = Logistic_smell_results['confusion_matrix']\n",
    "score_train_smell = Logistic_smell_results['train_score']\n",
    "score_test_smell = Logistic_smell_results['test_score']\n",
    "\n",
    "print('Score classificação smell train: ', score_train_smell, '%')\n",
    "print('Score classificação smell test: ', score_test_smell, '%')\n",
    "print('Matriz de confusão das reviews smell: \\n', CM_smell)"
   ]
  },
  {
   "cell_type": "markdown",
   "metadata": {},
   "source": [
    "# Reviews com classificação taste"
   ]
  },
  {
   "cell_type": "code",
   "execution_count": 48,
   "metadata": {},
   "outputs": [
    {
     "data": {
      "text/plain": [
       "\"lr_multiclass.fit(X_train, y1Taste)\\nscore_train_taste = round(lr_multiclass.score(X_train, y1Taste) * 100, 3)\\nscore_test_taste = round(lr_multiclass.score(X_test, y2Taste) * 100, 3)\\n\\nCM_taste = confusion_matrix(y2Taste, lr_multiclass.predict(X_test))\\nwith open('logistic_taste_results.p', 'wb') as file:\\n    pickle.dump({'confusion_matrix': CM_taste, 'train_score': score_train_taste, 'test_score': score_test_taste}, file)\""
      ]
     },
     "execution_count": 48,
     "metadata": {},
     "output_type": "execute_result"
    }
   ],
   "source": [
    "\"\"\"lr_multiclass.fit(X_train, y1Taste)\n",
    "score_train_taste = round(lr_multiclass.score(X_train, y1Taste) * 100, 3)\n",
    "score_test_taste = round(lr_multiclass.score(X_test, y2Taste) * 100, 3)\n",
    "\n",
    "CM_taste = confusion_matrix(y2Taste, lr_multiclass.predict(X_test))\n",
    "with open('logistic_taste_results.p', 'wb') as file:\n",
    "    pickle.dump({'confusion_matrix': CM_taste, 'train_score': score_train_taste, 'test_score': score_test_taste}, file)\"\"\""
   ]
  },
  {
   "cell_type": "code",
   "execution_count": 49,
   "metadata": {},
   "outputs": [
    {
     "name": "stdout",
     "output_type": "stream",
     "text": [
      "Score classificação taste train:  79.445 %\n",
      "Score classificação taste test:  41.492 %\n",
      "Matriz de confusão das reviews taste: \n",
      " [[2170 1388  983  248   31]\n",
      " [ 926 1692 2110  600   68]\n",
      " [ 541 1536 3905 1975  223]\n",
      " [ 174  436 1864 2293  504]\n",
      " [  50   73  308  589  313]]\n"
     ]
    }
   ],
   "source": [
    "Logistic_taste_results = openFile('logistic_taste_results.p')\n",
    "\n",
    "CM_taste = Logistic_taste_results['confusion_matrix']\n",
    "score_train_taste = Logistic_taste_results['train_score']\n",
    "score_test_taste = Logistic_taste_results['test_score']\n",
    "\n",
    "print('Score classificação taste train: ', score_train_taste, '%')\n",
    "print('Score classificação taste test: ', score_test_taste, '%')\n",
    "print('Matriz de confusão das reviews taste: \\n', CM_taste)"
   ]
  },
  {
   "cell_type": "markdown",
   "metadata": {},
   "source": [
    "Ao analisar os resultados anteriores, podemos ver que os resultados das classificações não são bons. Algumas razões para este comportamento devem-se ao facto de poderem haver palavras repetidas em diferentes classificações, o que faz com que exista uma alta probabilidade de erro. Outras razões para este comportamento e analizando apenas as classificações taste e smell, existem também bastantes erros, visto que pode acontecer uma cerveja ter uma boa classificação overall mas ter uma classificação smell ou taste mais baixa. O mesmo pode acontecer ao contrário onde uma classificação com overall baixo pode ter uma classificação smell ou taste alta.\n",
    "\n",
    "Para que a classificação fosse mais correta, teria de existir mais consistência nas classificação, ou seja, reviews com overall alto teriam de ter também classificações de smell e taste altos."
   ]
  },
  {
   "cell_type": "markdown",
   "metadata": {},
   "source": [
    "<a id='section7'/></a>\n",
    "# Classificador 2: SVM - Support Vector Machine\n",
    "\n",
    "As Máquinas de Suporte Vetorial (SVM) são algoritmos de aprendizagem supervisionada utilizados para problemas de classificação e regressão. No contexto da classificação, as SVM são classificadores binários, o que significa que são capazes de separar dados em duas classes.\n",
    "m:\n",
    "\n",
    "O objetivo principal das SVM é encontra linha dano de separação entre as classes de dados que maximize a margem, que é a distância eessa linhaplano e os pontos de dados mais próximos de cada classe (vetores de supouporte:\n",
    "\n",
    "Os vetores de suporte são odospontos de dados mais pa linhaiperplano de seSo. Eles são cruciais para a definição da margem de decisão e, consequentemente, para a class ficação.\n",
    "Apenas os vetores de suporte inauenciam na definição.oãTem como principais vantagens a boa performance em problemas de classificação e a eficácia para dados de grandes dimensões.dComo desvantagens podemos apontar a sensibilidade a\n",
    "Sescalamento ensível a, assim como a necessidadeto dos dads ligeirosNecessidade de ajuste fino de parâmetros, incl A lém disso pndo a escolpior ha do kern a lidar com  um desempenho inferior em, como é o nosso caso grandes conjuntos de dados."
   ]
  },
  {
   "cell_type": "markdown",
   "metadata": {},
   "source": [
    "### Classificação Binária - Quais os melhores parâmetros?"
   ]
  },
  {
   "cell_type": "code",
   "execution_count": 50,
   "metadata": {},
   "outputs": [
    {
     "data": {
      "text/plain": [
       "\"cs = np.arange(1, 5, 0.5)\\nps = ['l1', 'l2']\\n\\ncombinacoes = [(p, c) for p in ps for c in cs]\\nresultados_comb = []\\n\\n\\nfor p, c in combinacoes:\\n    #print(p, c)\\n    lsvc = LinearSVC(dual=False, penalty=p, C=c, max_iter=5000, tol=1e-2)\\n    resultados_comb.append(np.mean(cross_val_score(lsvc, X_train, y1_muito_bom, cv=3)))\\n\\npickle.dump({'param': combinacoes, 'scores': resultados_comb}, open('resultados_comb_svc.p', 'wb'))\""
      ]
     },
     "execution_count": 50,
     "metadata": {},
     "output_type": "execute_result"
    }
   ],
   "source": [
    "#parametros \n",
    "\"\"\"cs = np.arange(1, 5, 0.5)\n",
    "ps = ['l1', 'l2']\n",
    "\n",
    "combinacoes = [(p, c) for p in ps for c in cs]\n",
    "resultados_comb = []\n",
    "\n",
    "\n",
    "for p, c in combinacoes:\n",
    "    #print(p, c)\n",
    "    lsvc = LinearSVC(dual=False, penalty=p, C=c, max_iter=5000, tol=1e-2)\n",
    "    resultados_comb.append(np.mean(cross_val_score(lsvc, X_train, y1_muito_bom, cv=3)))\n",
    "\n",
    "pickle.dump({'param': combinacoes, 'scores': resultados_comb}, open('resultados_comb_svc.p', 'wb'))\"\"\""
   ]
  },
  {
   "cell_type": "code",
   "execution_count": 51,
   "metadata": {},
   "outputs": [
    {
     "data": {
      "image/png": "[encoded data removed]",
      "text/plain": [
       "<Figure size 500x400 with 1 Axes>"
      ]
     },
     "metadata": {},
     "output_type": "display_data"
    }
   ],
   "source": [
    "file = pickle.load(open('resultados_comb_svc.p', 'rb'))\n",
    "combos_p_c = file[\"param\"]\n",
    "resultados_p_c = file[\"scores\"]\n",
    "\n",
    "# Valores de C testados (1 a 5)\n",
    "cs = np.arange(1.0, 5.0, 0.5)\n",
    "\n",
    "# Dividir resultados por penalidades\n",
    "resultados_l1 = resultados_p_c[:len(cs)]\n",
    "resultados_l2 = resultados_p_c[len(cs):]\n",
    "\n",
    "plt.figure(figsize=(5, 4))\n",
    "plt.plot(cs, resultados_l1, '-o')\n",
    "plt.plot(cs, resultados_l2, '-o')\n",
    "plt.title('Cross Validation Score para diferentes C e P')\n",
    "plt.xlabel('Valor de C')\n",
    "plt.ylabel('% Validações Corretas')\n",
    "plt.legend(('l1', 'l2'))\n",
    "plt.grid()\n",
    "plt.show()"
   ]
  },
  {
   "cell_type": "markdown",
   "metadata": {},
   "source": [
    "Observando a figura acima, verificamos que a convergência se inicia a partir do ponto em que C=1. Dado que l1 tem uma maior percenatgem de validações corretas para esse ponto, é essa penalidade que vamos usar.\n",
    "\n",
    "Inicializamos então o classificador para ser utilizado nas classificações."
   ]
  },
  {
   "cell_type": "code",
   "execution_count": 52,
   "metadata": {},
   "outputs": [],
   "source": [
    "lsvc_bin = LinearSVC(dual=False, penalty='l1', C=1, max_iter=5000, tol=1e-2)"
   ]
  },
  {
   "cell_type": "markdown",
   "metadata": {},
   "source": [
    "### Classificação binária das reviews muito boas"
   ]
  },
  {
   "cell_type": "code",
   "execution_count": 53,
   "metadata": {},
   "outputs": [
    {
     "name": "stdout",
     "output_type": "stream",
     "text": [
      "Score treino binário bom:  95.24 %\n",
      "Score teste binário bom:  96.488 %\n",
      "Matriz de confusão das reviews muito boas: \n",
      " [[24112    22]\n",
      " [  856    10]]\n",
      "Erros:  878\n"
     ]
    }
   ],
   "source": [
    "# SVM (LinearSVC)\n",
    "score_train_bom = lsvc_bin.fit(X_train, y1_muito_bom)\n",
    "score_train_bom = lsvc_bin.score(X_train, y1_muito_bom)\n",
    "score_test_bom = lsvc_bin.score(X_test, y2_muito_bom)\n",
    "\n",
    "# Resultados\n",
    "print('Score treino binário bom: ', round(score_train_bom * 100, 3), '%')\n",
    "print('Score teste binário bom: ', round(score_test_bom * 100, 3), '%')\n",
    "\n",
    "CM_bom = confusion_matrix(y2_muito_bom, lsvc_bin.predict(X_test))\n",
    "print('Matriz de confusão das reviews muito boas: \\n', CM_bom)\n",
    "print('Erros: ', CM_bom[0][1] + CM_bom[1][0])"
   ]
  },
  {
   "cell_type": "markdown",
   "metadata": {},
   "source": [
    "### Classificação binária das reviews muito más"
   ]
  },
  {
   "cell_type": "code",
   "execution_count": 54,
   "metadata": {},
   "outputs": [
    {
     "name": "stdout",
     "output_type": "stream",
     "text": [
      "Score treino binário mau:  95.115 %\n",
      "Score teste binário mau:  90.572 %\n",
      "Matriz de confusão das reviews muito más: \n",
      " [[22168   158]\n",
      " [ 2199   475]]\n",
      "Erros:  2357\n"
     ]
    }
   ],
   "source": [
    "# SVM (LinearSVC)\n",
    "score_train_mau = lsvc_bin.fit(X_train, y1_muito_mau)\n",
    "score_train_mau = lsvc_bin.score(X_train, y1_muito_mau)\n",
    "score_test_mau = lsvc_bin.score(X_test, y2_muito_mau)\n",
    "\n",
    "# Resultados\n",
    "print('Score treino binário mau: ', round(score_train_mau * 100, 3), '%')\n",
    "print('Score teste binário mau: ', round(score_test_mau * 100, 3), '%')\n",
    "\n",
    "CM_mau = confusion_matrix(y2_muito_mau, lsvc_bin.predict(X_test))\n",
    "print('Matriz de confusão das reviews muito más: \\n', CM_mau)\n",
    "print('Erros: ', CM_mau[0][1] + CM_mau[1][0])"
   ]
  },
  {
   "cell_type": "code",
   "execution_count": 55,
   "metadata": {},
   "outputs": [
    {
     "data": {
      "image/png": "[encoded data removed]",
      "text/plain": [
       "<Figure size 400x400 with 1 Axes>"
      ]
     },
     "metadata": {},
     "output_type": "display_data"
    }
   ],
   "source": [
    "fpr, tpr, t = roc_curve(y2_muito_bom, lsvc_bin.decision_function(X_test))\n",
    "\n",
    "p1 = CM_bom[0,1]/(CM_bom[0,1] + CM_bom[0,0])\n",
    "p2 = CM_bom[1,1]/(CM_bom[1,1] + CM_bom[1,0])\n",
    "\n",
    "# Mostrar resultados...\n",
    "plt.figure(figsize=(4,4))\n",
    "\n",
    "# Plot da Curva ROC\n",
    "plt.plot(fpr,tpr, label='Curva ROC')\n",
    "\n",
    "# Plot dos Pontos\n",
    "plt.plot(p1, p2, 'o', label='Ponto Operacional')\n",
    "\n",
    "plt.title('Curva ROC e Ponto Operacional')\n",
    "plt.ylabel('Taxa de True Positive')\n",
    "plt.xlabel('Taxa de False Positive')\n",
    "plt.legend()\n",
    "plt.text(p1+0.06, p2-0.02, '(' + str(np.round(p1,3)) + ', ' + str(np.round(p2,3)) + ')' )\n",
    "plt.axis('scaled')\n",
    "plt.show()\n"
   ]
  },
  {
   "cell_type": "markdown",
   "metadata": {},
   "source": [
    "Com esta curva ROC, podemos ver que existe uma baixa taxa tanto de verdadeiros positivos como de falsos positivos, o que significa que à semelhança da regressão logística também não é um bom classificador."
   ]
  },
  {
   "cell_type": "markdown",
   "metadata": {},
   "source": [
    "### Classificação Multi-Classe\n",
    "\n",
    "Tal como fizemos para a regressão logística, vamos voltar a usar os valores obtidos na classificação binária para a classificação multi-classe. Depois vamos efetuar a classificação separadamente para cada um dos atributos, tal como foi feito anteriormente."
   ]
  },
  {
   "cell_type": "code",
   "execution_count": 56,
   "metadata": {},
   "outputs": [],
   "source": [
    "# SVM (LinearSVC)\n",
    "lsvc_multiclasse = LinearSVC(dual=False, penalty='l2', C=1, max_iter=5000, tol=1e-2)"
   ]
  },
  {
   "cell_type": "markdown",
   "metadata": {},
   "source": [
    "# Reviews com classificação overall"
   ]
  },
  {
   "cell_type": "code",
   "execution_count": 57,
   "metadata": {},
   "outputs": [
    {
     "data": {
      "text/plain": [
       "\"lsvc_multiclasse.fit(X_train, y1Overall)\\nscore_train_overall = round(lsvc_multiclasse.score(X_train, y1Overall) * 100, 3)\\nscore_test_overall = round(lsvc_multiclasse.score(X_test, y2Overall) * 100, 3)\\n\\nCM_overall = confusion_matrix(y2Overall, lsvc_multiclasse.predict(X_test))\\nwith open('svc_overall_results.p', 'wb') as file:\\n    pickle.dump({'confusion_matrix': CM_overall, 'train_score': score_train_overall, 'test_score': score_test_overall}, file)\""
      ]
     },
     "execution_count": 57,
     "metadata": {},
     "output_type": "execute_result"
    }
   ],
   "source": [
    "\"\"\"lsvc_multiclasse.fit(X_train, y1Overall)\n",
    "score_train_overall = round(lsvc_multiclasse.score(X_train, y1Overall) * 100, 3)\n",
    "score_test_overall = round(lsvc_multiclasse.score(X_test, y2Overall) * 100, 3)\n",
    "\n",
    "CM_overall = confusion_matrix(y2Overall, lsvc_multiclasse.predict(X_test))\n",
    "with open('svc_overall_results.p', 'wb') as file:\n",
    "    pickle.dump({'confusion_matrix': CM_overall, 'train_score': score_train_overall, 'test_score': score_test_overall}, file)\"\"\""
   ]
  },
  {
   "cell_type": "code",
   "execution_count": 58,
   "metadata": {},
   "outputs": [
    {
     "name": "stdout",
     "output_type": "stream",
     "text": [
      "Score classificação overall train:  63.832 %\n",
      "Score classificação overall test:  27.116 %\n",
      "Matriz de confusão das reviews overall: \n",
      " [[ 304  109  257  385   76   77   75   74   42]\n",
      " [  99   78  282  616   92   58   37   10    3]\n",
      " [  78   96  405 1465  264  234  117   30   10]\n",
      " [  87   74  431 2708  950  910  389  122   31]\n",
      " [  49   24  145 1276  765  925  586  169   38]\n",
      " [  61   17   92  830  634 1222  742  332   80]\n",
      " [  55    4   59  460  375  872  817  443  114]\n",
      " [  36    4   23  189  165  401  574  369  112]\n",
      " [  39    0   14   71   58  145  216  212  111]]\n"
     ]
    }
   ],
   "source": [
    "svc_overall_results = openFile('svc_overall_results.p')\n",
    "\n",
    "CM_overall = svc_overall_results['confusion_matrix']\n",
    "score_train_overall = svc_overall_results['train_score']\n",
    "score_test_overall = svc_overall_results['test_score']\n",
    "\n",
    "print('Score classificação overall train: ', score_train_overall, '%')\n",
    "print('Score classificação overall test: ', score_test_overall, '%')\n",
    "print('Matriz de confusão das reviews overall: \\n', CM_overall)"
   ]
  },
  {
   "cell_type": "markdown",
   "metadata": {},
   "source": [
    "# Reviews com classificação smell"
   ]
  },
  {
   "cell_type": "code",
   "execution_count": 59,
   "metadata": {},
   "outputs": [
    {
     "data": {
      "text/plain": [
       "\"lsvc_multiclasse.fit(X_train, y1Smell)\\nscore_train_smell = round(lsvc_multiclasse.score(X_train, y1Smell) * 100, 3)\\nscore_test_smell = round(lsvc_multiclasse.score(X_test, y2Smell) * 100, 3)\\n\\nCM_smell = confusion_matrix(y2Smell, lsvc_multiclasse.predict(X_test))\\nwith open('svc_smell_results.p', 'wb') as file:\\n    pickle.dump({'confusion_matrix': CM_smell, 'train_score': score_train_smell, 'test_score': score_test_smell}, file)\""
      ]
     },
     "execution_count": 59,
     "metadata": {},
     "output_type": "execute_result"
    }
   ],
   "source": [
    "\"\"\"lsvc_multiclasse.fit(X_train, y1Smell)\n",
    "score_train_smell = round(lsvc_multiclasse.score(X_train, y1Smell) * 100, 3)\n",
    "score_test_smell = round(lsvc_multiclasse.score(X_test, y2Smell) * 100, 3)\n",
    "\n",
    "CM_smell = confusion_matrix(y2Smell, lsvc_multiclasse.predict(X_test))\n",
    "with open('svc_smell_results.p', 'wb') as file:\n",
    "    pickle.dump({'confusion_matrix': CM_smell, 'train_score': score_train_smell, 'test_score': score_test_smell}, file)\"\"\""
   ]
  },
  {
   "cell_type": "code",
   "execution_count": 60,
   "metadata": {},
   "outputs": [
    {
     "name": "stdout",
     "output_type": "stream",
     "text": [
      "Score classificação smell train:  68.712 %\n",
      "Score classificação smell test:  42.832 %\n",
      "Matriz de confusão das reviews smell: \n",
      " [[2298 1225 1135  212   28]\n",
      " [ 901 1678 2700  612   47]\n",
      " [ 459 1239 4418 1858  149]\n",
      " [ 129  315 2012 2121  252]\n",
      " [  49   49  314  607  193]]\n"
     ]
    }
   ],
   "source": [
    "svc_smell_results = openFile('svc_smell_results.p')\n",
    "\n",
    "CM_smell = svc_smell_results['confusion_matrix']\n",
    "score_train_smell = svc_smell_results['train_score']\n",
    "score_test_smell = svc_smell_results['test_score']\n",
    "\n",
    "print('Score classificação smell train: ', score_train_smell, '%')\n",
    "print('Score classificação smell test: ', score_test_smell, '%')\n",
    "print('Matriz de confusão das reviews smell: \\n', CM_smell)"
   ]
  },
  {
   "cell_type": "markdown",
   "metadata": {},
   "source": [
    "# Reviews com classificação taste"
   ]
  },
  {
   "cell_type": "code",
   "execution_count": 61,
   "metadata": {},
   "outputs": [
    {
     "data": {
      "text/plain": [
       "\"lsvc_multiclasse.fit(X_train, y1Taste)\\nscore_train_taste = round(lsvc_multiclasse.score(X_train, y1Taste) * 100, 3)\\nscore_test_taste = round(lsvc_multiclasse.score(X_test, y2Taste) * 100, 3)\\n\\nCM_taste = confusion_matrix(y2Taste, lsvc_multiclasse.predict(X_test))\\nwith open('svc_taste_results.p', 'wb') as file:\\n    pickle.dump({'confusion_matrix': CM_taste, 'train_score': score_train_taste, 'test_score': score_test_taste}, file)\""
      ]
     },
     "execution_count": 61,
     "metadata": {},
     "output_type": "execute_result"
    }
   ],
   "source": [
    "\"\"\"lsvc_multiclasse.fit(X_train, y1Taste)\n",
    "score_train_taste = round(lsvc_multiclasse.score(X_train, y1Taste) * 100, 3)\n",
    "score_test_taste = round(lsvc_multiclasse.score(X_test, y2Taste) * 100, 3)\n",
    "\n",
    "CM_taste = confusion_matrix(y2Taste, lsvc_multiclasse.predict(X_test))\n",
    "with open('svc_taste_results.p', 'wb') as file:\n",
    "    pickle.dump({'confusion_matrix': CM_taste, 'train_score': score_train_taste, 'test_score': score_test_taste}, file)\"\"\""
   ]
  },
  {
   "cell_type": "code",
   "execution_count": 62,
   "metadata": {},
   "outputs": [
    {
     "name": "stdout",
     "output_type": "stream",
     "text": [
      "Score classificação taste train:  69.116 %\n",
      "Score classificação taste test:  44.268 %\n",
      "Matriz de confusão das reviews taste: \n",
      " [[2388 1114 1064  233   21]\n",
      " [ 880 1381 2513  585   37]\n",
      " [ 426 1060 4573 1993  128]\n",
      " [ 143  274 2059 2496  299]\n",
      " [  54   48  318  684  229]]\n"
     ]
    }
   ],
   "source": [
    "svc_taste_results = openFile('svc_taste_results.p')\n",
    "\n",
    "CM_taste = svc_taste_results['confusion_matrix']\n",
    "score_train_taste = svc_taste_results['train_score']\n",
    "score_test_taste = svc_taste_results['test_score']\n",
    "\n",
    "print('Score classificação taste train: ', score_train_taste, '%')\n",
    "print('Score classificação taste test: ', score_test_taste, '%')\n",
    "print('Matriz de confusão das reviews taste: \\n', CM_taste)"
   ]
  },
  {
   "cell_type": "markdown",
   "metadata": {},
   "source": [
    "Observando os resultados, verificamos que este classificador obtém resultados piores para os dados de treino do que o classificador para a regressão logística. Para os dados de teste, os resultados continuam a estar muito longe do ideal e não variam muito em relação aos que foram obtidos pela regressão logística."
   ]
  },
  {
   "cell_type": "markdown",
   "metadata": {},
   "source": [
    "<a id='section8'/></a>\n",
    "# Classificador 3: Multinomial Naive Bayes\n",
    "\n",
    "O algoritmo Multinomial Naive Bayes é um método de aprendizagem probabilística que é usado em Processamento de linguagem natural.\n",
    "\n",
    "Este algoritmo é baseado no teorema de Bayes, que calcula a probabilidade de um evento ocorrer com base no conhecimento prévio das condições relacionadas a um evento e prevê a etiqueta de um texto. O Multinomial Naive Bayes calcula a probabilidade de cada etiqueta para um conjunto de dados e forncece a etiqueta com a maior probabilidade como saída.\n",
    "\n",
    "As vantagens deste classificador é a sua facilidade de implementação uma vez que apenas é necessário calcular a probabilidade das etiquetas como foi mencionado anteriormente. Também é escalável o que significa que lida bem com conjuntos muito grandes de dados. Porém existem também desvantagens como com todos os classificadores sendo uma desvantagem a sua precisão de previsão mais baixa em comparação a outros classificadores."
   ]
  },
  {
   "cell_type": "markdown",
   "metadata": {},
   "source": [
    "### Classificação Binária\n",
    "\n",
    "Para este classificador apenas será feita a classificação binária. Para tal, iremos usar os mesmos valores de y usados nas classificações binárias anteriores (y1_muito_bom, y1_muito_mau, y2_muito_bom, y2_muito_mau)"
   ]
  },
  {
   "cell_type": "markdown",
   "metadata": {},
   "source": [
    "Tal como aconteceu nos classificadores anteriores, vamos começar por procurar os melhores parâmetros. Neste tipo de classificador apenas existem três parâmetros para serem testados, o parâmetro alpha que é um parâmetro de suavização, o parâmetro force_alpha e o parâmetro fit_prior."
   ]
  },
  {
   "cell_type": "code",
   "execution_count": 63,
   "metadata": {},
   "outputs": [
    {
     "data": {
      "text/plain": [
       "\"alpha = [0.0001, 0.001, 0.1, 0.1, 0.5, 1]\\nforce_alpha = [True, False]\\nfit_prior = [True, False]\\n\\nparam_combinations = product(alpha, force_alpha, fit_prior)\\n\\nmelhores_vals = 0\\nmelhores_params = []\\n\\nfor alpha, force_alpha, fit_prior in param_combinations:\\n    nb = MultinomialNB(alpha=alpha, force_alpha=force_alpha, fit_prior=fit_prior)\\n    nb.fit(X_train, y1_muito_bom)\\n    testing_score = nb.score(X_train, y1_muito_bom)\\n    if testing_score > melhores_vals:\\n        melhores_vals = testing_score\\n        melhores_params = [alpha, force_alpha, fit_prior]\\n\\ndump_to_pickle(melhores_vals, 'melhores_vals_MultinomialNB.p')\\ndump_to_pickle(melhores_params, 'melhores_params_MultinomialNB.p')\""
      ]
     },
     "execution_count": 63,
     "metadata": {},
     "output_type": "execute_result"
    }
   ],
   "source": [
    "\"\"\"alpha = [0.0001, 0.001, 0.1, 0.1, 0.5, 1]\n",
    "force_alpha = [True, False]\n",
    "fit_prior = [True, False]\n",
    "\n",
    "param_combinations = product(alpha, force_alpha, fit_prior)\n",
    "\n",
    "melhores_vals = 0\n",
    "melhores_params = []\n",
    "\n",
    "for alpha, force_alpha, fit_prior in param_combinations:\n",
    "    nb = MultinomialNB(alpha=alpha, force_alpha=force_alpha, fit_prior=fit_prior)\n",
    "    nb.fit(X_train, y1_muito_bom)\n",
    "    testing_score = nb.score(X_train, y1_muito_bom)\n",
    "    if testing_score > melhores_vals:\n",
    "        melhores_vals = testing_score\n",
    "        melhores_params = [alpha, force_alpha, fit_prior]\n",
    "\n",
    "dump_to_pickle(melhores_vals, 'melhores_vals_MultinomialNB.p')\n",
    "dump_to_pickle(melhores_params, 'melhores_params_MultinomialNB.p')\"\"\""
   ]
  },
  {
   "cell_type": "code",
   "execution_count": 64,
   "metadata": {},
   "outputs": [
    {
     "name": "stdout",
     "output_type": "stream",
     "text": [
      "Melhores parâmetros encontrados no teste anterior: Alpha:  0.0001 , force_alpha:  True  e fit_prior:  True\n",
      "Score de treino:  96.159 %\n"
     ]
    }
   ],
   "source": [
    "melhores_params_MultinomialNB = openFile('melhores_params_MultinomialNB.p')\n",
    "melhores_vals_MultinomialNB = openFile('melhores_vals_MultinomialNB.p')\n",
    "\n",
    "print(\"Melhores parâmetros encontrados no teste anterior: Alpha: \", melhores_params_MultinomialNB[0] \n",
    "      ,\", force_alpha: \", melhores_params_MultinomialNB[1] , \" e fit_prior: \", melhores_params_MultinomialNB[2])\n",
    "\n",
    "print('Score de treino: ', round(melhores_vals_MultinomialNB*100, 3), '%')"
   ]
  },
  {
   "cell_type": "markdown",
   "metadata": {},
   "source": [
    "Inicializamos então o classificador para ser utilizado nas classificações binárias."
   ]
  },
  {
   "cell_type": "code",
   "execution_count": 65,
   "metadata": {},
   "outputs": [],
   "source": [
    "nb_classifier = MultinomialNB(alpha=melhores_params_MultinomialNB[0], \n",
    "                              force_alpha=melhores_params_MultinomialNB[1], fit_prior=melhores_params_MultinomialNB[2])"
   ]
  },
  {
   "cell_type": "markdown",
   "metadata": {},
   "source": [
    "### Classificação binária das reviews muito boas"
   ]
  },
  {
   "cell_type": "code",
   "execution_count": 66,
   "metadata": {},
   "outputs": [
    {
     "name": "stdout",
     "output_type": "stream",
     "text": [
      "Score treino binário bom:  96.159 %\n",
      "Score teste binário bom:  96.408 %\n",
      "Matriz de confusão das reviews muito boas: \n",
      " [[24097    37]\n",
      " [  861     5]]\n",
      "Erros:  898\n"
     ]
    }
   ],
   "source": [
    "nb_classifier.fit(X_train, y1_muito_bom)\n",
    "score_train_bom = nb_classifier.score(X_train, y1_muito_bom)\n",
    "score_test_bom = nb_classifier.score(X_test, y2_muito_bom)\n",
    "\n",
    "print('Score treino binário bom: ', round(score_train_bom * 100, 3), '%')\n",
    "print('Score teste binário bom: ', round(score_test_bom * 100, 3), '%')\n",
    "\n",
    "CM_bom = confusion_matrix(y2_muito_bom, nb_classifier.predict(X_test))\n",
    "print('Matriz de confusão das reviews muito boas: \\n', CM_bom)\n",
    "print('Erros: ', CM_bom[0][1] + CM_bom[1][0])"
   ]
  },
  {
   "cell_type": "markdown",
   "metadata": {},
   "source": [
    "### Classificação binária das reviews muito más"
   ]
  },
  {
   "cell_type": "code",
   "execution_count": 67,
   "metadata": {},
   "outputs": [
    {
     "name": "stdout",
     "output_type": "stream",
     "text": [
      "Score treino binário bom:  95.992 %\n",
      "Score teste binário bom:  89.264 %\n",
      "Matriz de confusão das reviews muito boas: \n",
      " [[22164   162]\n",
      " [ 2522   152]]\n",
      "Erros:  2684\n"
     ]
    }
   ],
   "source": [
    "nb_classifier.fit(X_train, y1_muito_mau)\n",
    "score_train_mau = nb_classifier.score(X_train, y1_muito_mau)\n",
    "score_test_mau = nb_classifier.score(X_test, y2_muito_mau)\n",
    "\n",
    "print('Score treino binário bom: ', round(score_train_mau * 100, 3), '%')\n",
    "print('Score teste binário bom: ', round(score_test_mau * 100, 3), '%')\n",
    "\n",
    "CM_mau = confusion_matrix(y2_muito_mau, nb_classifier.predict(X_test))\n",
    "print('Matriz de confusão das reviews muito boas: \\n', CM_mau)\n",
    "print('Erros: ', CM_mau[0][1] + CM_mau[1][0])"
   ]
  },
  {
   "cell_type": "markdown",
   "metadata": {},
   "source": [
    "Podemos verificar que nos testes binários com o classificador multinomial naive bayes, temos uns bons resultados de treino, descendo um pouco para os dados de teste. Uma possível explicação para os erros é a probabilidade de algumas palavras existirem tanto em reviews com overall alto como baixo."
   ]
  },
  {
   "cell_type": "markdown",
   "metadata": {},
   "source": [
    "<a id='section9'/></a>\n",
    "# Comparação de resultados"
   ]
  },
  {
   "cell_type": "markdown",
   "metadata": {},
   "source": [
    "### Comparação binária\n",
    "\n",
    "Ao compararmos os resultados obtidos, podemos averiguar que a regressão logistica é o classificador com um score de teste e treino em ambos os casos mais elevado. Podemos então afirmar que, para etse tipo de dados, a regressão logistica será a mais correta a usar, mesmo demorando um pouco mais a executar a mesma."
   ]
  },
  {
   "cell_type": "markdown",
   "metadata": {},
   "source": [
    "### Comparação multi-classe\n",
    "\n",
    "Neste caso, existe uma classificação claramente superior para a classificação dos dados de treino sendo essa classificação a regressão logistica novamente. Contudo para a classificação dos dados de teste, os resultados foram muito pouco satisfatórios tanto no classificador de regressão logistica como no classificador SVM (Support Vector Machine). Posto isto, o classificador mais correto de utilizar seria o classificador de regressão logistica visto que o score obtido com os dados de treino foi superior aos obtidos com o classificador SVM."
   ]
  }
 ],
 "metadata": {
  "kernelspec": {
   "display_name": "Python 3 (ipykernel)",
   "language": "python",
   "name": "python3"
  },
  "language_info": {
   "codemirror_mode": {
    "name": "ipython",
    "version": 3
   },
   "file_extension": ".py",
   "mimetype": "text/x-python",
   "name": "python",
   "nbconvert_exporter": "python",
   "pygments_lexer": "ipython3",
   "version": "3.12.1"
  }
 },
 "nbformat": 4,
 "nbformat_minor": 4
}

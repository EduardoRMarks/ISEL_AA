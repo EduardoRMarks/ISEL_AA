{
 "cells": [
  {
   "cell_type": "markdown",
   "metadata": {},
   "source": [
    "<center>\n",
    "<img src=\"https://2223moodle.isel.pt/pluginfile.php/1/theme_adaptable/logo/1631635830/logo-isel_inv3.png\" width=\"250\">\n",
    "<h3>Licenciatura em Engenharia Informática e Multimédia</h3><br>\n",
    "Ano Letivo 2023/2024<br>\n",
    "<h3>Aprendizagem Automaática (AA)</h3>\n",
    "<h3>Projeto Final - Rate Beer Dataset</h3> \n",
    "\n",
    "\n",
    "<center> \n",
    "<br>\n",
    "Ricardo Vieira <b>A45871</b><br>\n",
    "Eduardo Marques <b>A45977</b><br>\n",
    "Turma 52D<br><br>\n",
    "Docente: Engenheiro Gonçalo Xufre<br> \n",
    "21 de Janeiro 2024\n",
    "</center>\n",
    "</center>"
   ]
  },
  {
   "cell_type": "markdown",
   "metadata": {},
   "source": [
    "***\n",
    "<br>\n",
    "<a id='section0'></a>\n",
    "<center><h2><b>Índice</b></h2></center>\n"
   ]
  },
  {
   "cell_type": "code",
   "execution_count": 2,
   "metadata": {},
   "outputs": [],
   "source": [
    "# Bibliotecas Permitidas - Não se podem acrescentar mais!\n",
    "import cv2 # OpenCV\n",
    "import itertools\n",
    "import nltk\n",
    "import pandas\n",
    "import pickle\n",
    "import re\n",
    "import sklearn\n",
    "import time\n",
    "\n",
    "import numpy             as np\n",
    "import scipy.linalg      as la\n",
    "import matplotlib.pyplot as plt\n",
    "\n",
    "from sklearn.cluster import MiniBatchKMeans\n",
    "from sklearn.decomposition import TruncatedSVD\n",
    "from sklearn.feature_extraction.text import TfidfVectorizer\n",
    "from sklearn.linear_model import LogisticRegression\n",
    "from sklearn.metrics import precision_recall_curve, confusion_matrix, roc_curve\n",
    "from sklearn.model_selection import train_test_split, cross_val_score, GridSearchCV\n",
    "from sklearn.naive_bayes import MultinomialNB\n",
    "from sklearn.neighbors import KNeighborsClassifier\n",
    "from sklearn.svm import LinearSVC"
   ]
  },
  {
   "cell_type": "markdown",
   "metadata": {},
   "source": [
    "***\n",
    "<a id='section1'/></a>\n",
    "# <center>[←](#section0) [Índice](#section0) [→](#section1)<br><br>Funções auxiliares<b></b></center>\n",
    "\n",
    "## Funções e Variáveis Auxiliares\n",
    "Nesta secção, apresenta-se uma série de funções auxiliares."
   ]
  },
  {
   "cell_type": "code",
   "execution_count": 3,
   "metadata": {},
   "outputs": [],
   "source": [
    "# Recebe o nome de um ficheiro que contenha informação a ser lida como pickle.\n",
    "def openFile(filename):\n",
    "    return pickle.load(open(filename, 'rb'))\n",
    "\n",
    "\n",
    "# Recebe um array com um ou mais documentos, limpando-os de forma a conter apenas em caracteres alfabéticos sem acentos.\n",
    "# Flag binary, por omissão a 0, indica a necessidade de descodificação binária\n",
    "def cleanFile(documentos, binary=False):\n",
    "    #Converte strings binárias para strings normais\n",
    "    if binary:\n",
    "        documentos = [doc.decode('UTF-8') for doc in documentos]\n",
    "        \n",
    "    #Remove marcas html de mudança de linha\n",
    "    documentos = [doc.replace('<br />', ' ') for doc in documentos]\n",
    "    \n",
    "    #Elimina todos os caracteres que não sejam alfabéticos\n",
    "    documentos = [re.sub('[^a-zA-Z0-9\\u00C0-\\u00FF/]' , ' ', doc) for doc in documentos]\n",
    "    \n",
    "    return documentos"
   ]
  },
  {
   "cell_type": "markdown",
   "metadata": {},
   "source": [
    "***\n",
    "<a id='section2'/></a>\n",
    "# <center>[←](#section1) [Índice](#section0) [→](#section3)<br><br>Desenvolvimento<b></b></center>\n",
    "\n",
    "Começamos pela obtenção e estudo dos dados fornecidos."
   ]
  },
  {
   "cell_type": "code",
   "execution_count": 4,
   "metadata": {},
   "outputs": [],
   "source": [
    "D_train = openFile('rateBeer75Ktrain.p')\n",
    "D_test = openFile('rateBeer25Ktest.p')"
   ]
  },
  {
   "cell_type": "code",
   "execution_count": 21,
   "metadata": {},
   "outputs": [
    {
     "data": {
      "text/plain": [
       "Text(0.5, 0, 'Classificação')"
      ]
     },
     "execution_count": 21,
     "metadata": {},
     "output_type": "execute_result"
    },
    {
     "data": {
      "image/png": "[encoded data removed]",
      "text/plain": [
       "<Figure size 640x480 with 1 Axes>"
      ]
     },
     "metadata": {},
     "output_type": "display_data"
    }
   ],
   "source": [
    "# X de treino\n",
    "X1 = np.array([value[\"review\"] for value in D_train.values()])\n",
    "# y de treino\n",
    "y1Feel = np.array([value[\"feel\"][0] for value in D_train.values()])\n",
    "y1Look = np.array([value[\"look\"][0] for value in D_train.values()])\n",
    "y1Smell = np.array([value[\"smell\"][0] for value in D_train.values()])\n",
    "y1Taste = np.array([value[\"taste\"][0] for value in D_train.values()])\n",
    "y1Overall = np.array([value[\"overall\"][0] for value in D_train.values()])\n",
    "\n",
    "# X de teste\n",
    "X2 = np.array([value[\"review\"] for value in D_test.values()])\n",
    "# y de teste\n",
    "y2Feel = np.array([value[\"feel\"][0] for value in D_test.values()])\n",
    "y2Look = np.array([value[\"look\"][0] for value in D_test.values()])\n",
    "y2Smell = np.array([value[\"smell\"][0] for value in D_test.values()])\n",
    "y2Taste = np.array([value[\"taste\"][0] for value in D_test.values()])\n",
    "y2Overall = np.array([value[\"overall\"][0] for value in D_test.values()])\n",
    "\n",
    "labels, counts = np.unique(y1Overall, return_counts=True)\n",
    "\n",
    "plt.subplot(121)\n",
    "plt.title('Quantidade de Críticas por Avaliação - Multi-Classe')\n",
    "plt.bar(labels, counts, align='center')\n",
    "plt.xticks(np.arange(0, 10, step=1))\n",
    "plt.ylabel('Número de Críticas')\n",
    "plt.xlabel('Classificação')\n"
   ]
  },
  {
   "cell_type": "code",
   "execution_count": 23,
   "metadata": {},
   "outputs": [
    {
     "name": "stdout",
     "output_type": "stream",
     "text": [
      "Crítica Conforme Lida: \n",
      " Compliments of a trade with goldtwins  thanks  Poured dark with very little head   Coffee bean and chocolate dominate from the start  slight sweetness in the middle and finishes with a bit of bitterness from the coffee   A nice hefty porter for the winter months \n",
      "\n",
      "Crítica Após Limpeza: \n",
      " Compliments of a trade with goldtwins  thanks  Poured dark with very little head   Coffee bean and chocolate dominate from the start  slight sweetness in the middle and finishes with a bit of bitterness from the coffee   A nice hefty porter for the winter months \n"
     ]
    },
    {
     "ename": "KeyboardInterrupt",
     "evalue": "",
     "output_type": "error",
     "traceback": [
      "\u001b[0;31m---------------------------------------------------------------------------\u001b[0m",
      "\u001b[0;31mKeyboardInterrupt\u001b[0m                         Traceback (most recent call last)",
      "Cell \u001b[0;32mIn[23], line 12\u001b[0m\n\u001b[1;32m     10\u001b[0m \u001b[38;5;66;03m# Stemming das criticas\u001b[39;00m\n\u001b[1;32m     11\u001b[0m porterStemFunc \u001b[38;5;241m=\u001b[39m PorterStemmer()\n\u001b[0;32m---> 12\u001b[0m Docs_train_PorterStem \u001b[38;5;241m=\u001b[39m [\u001b[38;5;124m'\u001b[39m\u001b[38;5;124m \u001b[39m\u001b[38;5;124m'\u001b[39m\u001b[38;5;241m.\u001b[39mjoin([porterStemFunc\u001b[38;5;241m.\u001b[39mstem(word) \u001b[38;5;28;01mfor\u001b[39;00m word \u001b[38;5;129;01min\u001b[39;00m \u001b[43mdoc\u001b[49m\u001b[38;5;241;43m.\u001b[39;49m\u001b[43msplit\u001b[49m\u001b[43m(\u001b[49m\u001b[43m)\u001b[49m]) \u001b[38;5;28;01mfor\u001b[39;00m doc \u001b[38;5;129;01min\u001b[39;00m Docs_train]\n\u001b[1;32m     13\u001b[0m Docs_test_PorterStem \u001b[38;5;241m=\u001b[39m [\u001b[38;5;124m'\u001b[39m\u001b[38;5;124m \u001b[39m\u001b[38;5;124m'\u001b[39m\u001b[38;5;241m.\u001b[39mjoin([porterStemFunc\u001b[38;5;241m.\u001b[39mstem(word) \u001b[38;5;28;01mfor\u001b[39;00m word \u001b[38;5;129;01min\u001b[39;00m doc\u001b[38;5;241m.\u001b[39msplit()]) \u001b[38;5;28;01mfor\u001b[39;00m doc \u001b[38;5;129;01min\u001b[39;00m Docs_test]\n\u001b[1;32m     15\u001b[0m snowballSteamFunc \u001b[38;5;241m=\u001b[39m SnowballStemmer(\u001b[38;5;124m'\u001b[39m\u001b[38;5;124menglish\u001b[39m\u001b[38;5;124m'\u001b[39m)\n",
      "\u001b[0;31mKeyboardInterrupt\u001b[0m: "
     ]
    }
   ],
   "source": [
    "from nltk.stem import PorterStemmer, SnowballStemmer, LancasterStemmer\n",
    "# Limpeza das criticas\n",
    "print('Crítica Conforme Lida: \\n', X1[1])\n",
    "print()\n",
    "Docs_train = cleanFile(X1)\n",
    "print('Crítica Após Limpeza: \\n', X1[1])\n",
    "\n",
    "Docs_test = cleanFile(X2)\n",
    "\n",
    "# Stemming das criticas\n",
    "porterStemFunc = PorterStemmer()\n",
    "Docs_train_PorterStem = [' '.join([porterStemFunc.stem(word) for word in doc.split()]) for doc in Docs_train]\n",
    "Docs_test_PorterStem = [' '.join([porterStemFunc.stem(word) for word in doc.split()]) for doc in Docs_test]\n",
    "print(\"PorterStemmer\")\n",
    "\n",
    "snowballSteamFunc = SnowballStemmer('english')\n",
    "Docs_test_SnowballStem = [' '.join([snowballSteamFunc.stem(word) for word in doc.split()]) for doc in Docs_test]\n",
    "Docs_train_SnowballStem = [' '.join([snowballSteamFunc.stem(word) for word in doc.split()]) for doc in Docs_train]\n",
    "print(\"SnowballStemmer\")\n",
    "\n",
    "lancasterStemFunc = LancasterStemmer()\n",
    "Docs_test_LancasterStem = [' '.join([lancasterStemFunc.stem(word) for word in doc.split()]) for doc in Docs_test]\n",
    "Docs_train_LancasterStem = [' '.join([lancasterStemFunc.stem(word) for word in doc.split()]) for doc in Docs_train]\n",
    "print(\"LancasterStemmer\")"
   ]
  },
  {
   "cell_type": "code",
   "execution_count": null,
   "metadata": {},
   "outputs": [],
   "source": []
  }
 ],
 "metadata": {
  "kernelspec": {
   "display_name": "Python 3",
   "language": "python",
   "name": "python3"
  },
  "language_info": {
   "codemirror_mode": {
    "name": "ipython",
    "version": 3
   },
   "file_extension": ".py",
   "mimetype": "text/x-python",
   "name": "python",
   "nbconvert_exporter": "python",
   "pygments_lexer": "ipython3",
   "version": "3.12.1"
  }
 },
 "nbformat": 4,
 "nbformat_minor": 2
}

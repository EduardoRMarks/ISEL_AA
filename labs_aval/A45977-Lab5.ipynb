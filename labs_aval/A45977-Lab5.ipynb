{
 "cells": [
  {
   "cell_type": "markdown",
   "metadata": {},
   "source": [
    "# LAb5: Generalização de modelos lineares"
   ]
  },
  {
   "cell_type": "markdown",
   "metadata": {},
   "source": [
    "<hr style=\"border:1px  solid black\"> </hr>"
   ]
  },
  {
   "cell_type": "markdown",
   "metadata": {},
   "source": [
    "## Nome: Eduardo Marques\n",
    "## Número: 45977"
   ]
  },
  {
   "cell_type": "markdown",
   "metadata": {},
   "source": [
    "<hr style=\"border:1px  solid black\"> </hr>"
   ]
  },
  {
   "cell_type": "markdown",
   "metadata": {},
   "source": [
    "## Desenvolva e corra o código pedido nas células imediatamente abaixo das perguntas."
   ]
  },
  {
   "cell_type": "markdown",
   "metadata": {},
   "source": [
    "# IMPORTANTE:\n",
    "## Uma vez completado, grave este Jupyter notebook com o seguinte nome:\n",
    "## Axxxxx-Lab5.ipynb (Axxxxx: número de aluno)\n",
    "##  e depois submeta o ficheiro no link do Moodle providenciado para o efeito."
   ]
  },
  {
   "cell_type": "markdown",
   "metadata": {},
   "source": [
    "<hr style=\"border:2px solid black\"> </hr>"
   ]
  },
  {
   "cell_type": "markdown",
   "metadata": {},
   "source": [
    "# Dados: $\\texttt{breast_cancer}$ dataset do $\\texttt{sklearn}$\n",
    "### Considere os dados do $\\texttt{breast_cancer}$ dataset do $\\texttt{sklearn}$, divididos em três conjuntos, treino/validação/teste, segundo os comandos da próxima célula.\n",
    "* ### X1a: dados de treino (array de $319\\times30$)\n",
    "* ### y1a: classe do dados de treino\n",
    "* ### X1b: dados de validação (array de $100\\times30$)\n",
    "* ### y1b: classe do dados de validação\n",
    "* ### X2: dados de treino (array de $150\\times30$)\n",
    "* ### y2: classe do dados de teste"
   ]
  },
  {
   "cell_type": "code",
   "execution_count": 1,
   "metadata": {
    "ExecuteTime": {
     "end_time": "2023-12-13T12:28:53.140779475Z",
     "start_time": "2023-12-13T12:28:53.087917667Z"
    }
   },
   "outputs": [],
   "source": [
    "import numpy as np\n",
    "import matplotlib.pyplot as plt\n",
    "from sklearn.metrics import confusion_matrix, roc_curve\n",
    "from sklearn.model_selection import  train_test_split\n",
    "import sklearn.datasets as DT\n",
    "from sklearn.svm import SVC\n",
    "from sklearn.linear_model import LogisticRegression\n",
    "\n",
    "D=DT.load_breast_cancer()\n",
    "X=D.data\n",
    "y=D.target\n",
    "\n",
    "################################################################\n",
    "#ATENÇÃO: Considerar os casos malígnos como positivos (classe 1)\n",
    "#Necessário inverter classes\n",
    "y=np.abs(y-1)\n",
    "################################################################\n",
    "\n",
    "#divitir em treino, validação e teste\n",
    "X1,X2,y1,y2=train_test_split(X,y,test_size=150,stratify=y,random_state=42)\n",
    "X1a,X1b,y1a,y1b=train_test_split(X1,y1,test_size=100,stratify=y1,random_state=42)"
   ]
  },
  {
   "cell_type": "markdown",
   "metadata": {},
   "source": [
    "# Pergunta 1: Discriminantes logístico\n",
    "##  Considere um discriminante logístico com regularização $\\ell_1$ (lasso) e com os parâmetros $\\texttt{C=2}$, $\\texttt{solver='saga'}$ e $\\texttt{max_iter=5000}$. Treine o classificador com os conjuntos de treino e validação (419 exemplos).\n",
    "### a) Imprima o número total de erros e matriz de confusão (não normalizada) deste classificador para o conjunto de teste.\n",
    "### b) Imprima o índice e os nomes (feature names) das dimensões dos dados que não interferem no processo de classificação (dimensões descartadas).\n",
    "### c) Calibre este classificador de maneira a ter um número máximo de falsos negativos no teste inferior o igual a 5, e ao mesmo tempo mantendo o número total de erros igual à da alínea 1.a).\n",
    "### d) Faça um plot da curva ROC deste classificador com os dados de teste. Inclua nesse plot o ponto operacional dos classificadores das alíneas 1.a) e 1.c)."
   ]
  },
  {
   "cell_type": "markdown",
   "metadata": {},
   "source": [
    "## 1.a)"
   ]
  },
  {
   "cell_type": "code",
   "execution_count": 2,
   "metadata": {
    "ExecuteTime": {
     "end_time": "2023-12-13T12:28:53.503484622Z",
     "start_time": "2023-12-13T12:28:53.141391667Z"
    }
   },
   "outputs": [
    {
     "name": "stdout",
     "output_type": "stream",
     "text": [
      "(419, 30)\n",
      "Nº total de erros: 12\n",
      "Matriz de confusão a baixo\n",
      "[[93  1]\n",
      " [11 45]]\n"
     ]
    }
   ],
   "source": [
    "print(X1.shape)\n",
    "lr = LogisticRegression(penalty='l1', C=2, solver='saga', max_iter=5000).fit(X1, y1)\n",
    "y2e=lr.predict(X2)\n",
    "\n",
    "MC1a = confusion_matrix(y2,y2e)\n",
    "\n",
    "print('Nº total de erros:',np.sum(y2!=y2e))\n",
    "print('Matriz de confusão a baixo',)\n",
    "print(MC1a)"
   ]
  },
  {
   "cell_type": "markdown",
   "metadata": {},
   "source": [
    "## 1.b)"
   ]
  },
  {
   "cell_type": "code",
   "execution_count": 3,
   "metadata": {
    "ExecuteTime": {
     "end_time": "2023-12-13T12:28:53.551554394Z",
     "start_time": "2023-12-13T12:28:53.502337301Z"
    }
   },
   "outputs": [
    {
     "name": "stdout",
     "output_type": "stream",
     "text": [
      "Feature e Nome:\n",
      "4 : mean smoothness\n",
      "9 : mean fractal dimension\n",
      "10 : radius error\n",
      "14 : smoothness error\n",
      "15 : compactness error\n",
      "16 : concavity error\n",
      "17 : concave points error\n",
      "18 : symmetry error\n",
      "19 : fractal dimension error\n",
      "24 : worst smoothness\n",
      "29 : worst fractal dimension\n",
      "Total de Dimensões Descartadas: 11\n"
     ]
    }
   ],
   "source": [
    "w = lr.coef_.squeeze()\n",
    "idx = np.argwhere(w==0).squeeze()\n",
    "\n",
    "nomes = D.feature_names\n",
    "print('Feature e Nome:')\n",
    "for i in idx:\n",
    "    print(i, ':', nomes[i]) if (len(str(i))==2) else print(i, ':', nomes[i])\n",
    "print('Total de Dimensões Descartadas:', idx.shape[0])"
   ]
  },
  {
   "cell_type": "markdown",
   "metadata": {},
   "source": [
    "## 1.c)"
   ]
  },
  {
   "cell_type": "code",
   "execution_count": 4,
   "metadata": {
    "ExecuteTime": {
     "end_time": "2023-12-13T12:28:53.691714514Z",
     "start_time": "2023-12-13T12:28:53.551093381Z"
    }
   },
   "outputs": [
    {
     "name": "stdout",
     "output_type": "stream",
     "text": [
      "Nº total de erros:  12\n",
      "Matriz de confusão a baixo\n",
      "[[87  7]\n",
      " [ 5 51]]\n"
     ]
    }
   ],
   "source": [
    "y2c = lr.decision_function(X2)\n",
    "v = 0\n",
    "\n",
    "for t in (np.arange(-2, 2, 0.01)): \n",
    "    #se houver 5 ou menos FN e 12 erros\n",
    "    if (confusion_matrix(y2, y2c >= t)[1,0] <= 5) and len(((y2c >= t) != y2)==12):\n",
    "        v = t\n",
    "        \n",
    "\n",
    "MC1c = confusion_matrix(y2, y2c >= v)\n",
    "print('Nº total de erros: ', np.sum(y2 != (y2c >= v)))\n",
    "print('Matriz de confusão a baixo')\n",
    "print(MC1c)"
   ]
  },
  {
   "cell_type": "markdown",
   "metadata": {},
   "source": [
    "## 1.d)"
   ]
  },
  {
   "cell_type": "code",
   "execution_count": 5,
   "metadata": {
    "ExecuteTime": {
     "end_time": "2023-12-13T12:28:53.856163012Z",
     "start_time": "2023-12-13T12:28:53.709876555Z"
    }
   },
   "outputs": [
    {
     "data": {
      "image/png": "[encoded data removed]",
      "text/plain": [
       "<Figure size 400x400 with 1 Axes>"
      ]
     },
     "metadata": {},
     "output_type": "display_data"
    }
   ],
   "source": [
    "fpr, tpr, thresholds = roc_curve(y2, y2c)\n",
    "\n",
    "p1a = MC1a[0,1]/(MC1a[0,1] + MC1a[0,0])\n",
    "p2a = MC1a[1,1]/(MC1a[1,1] + MC1a[1,0])\n",
    "\n",
    "p1c = MC1c[0,1]/(MC1c[0,1] + MC1c[0,0])\n",
    "p2c = MC1c[1,1]/(MC1c[1,1] + MC1c[1,0])\n",
    "\n",
    "plt.figure(figsize=(4,4))\n",
    "\n",
    "plt.plot(p1a, p2a, 'o', color='r', label='Ponto Operacional a)')\n",
    "plt.plot(p1c, p2c, 'o', color='g', label='Ponto Operacional c)')\n",
    "\n",
    "# Plot da curva ROC\n",
    "plt.plot(fpr, tpr, label = 'Curva ROC')\n",
    "\n",
    "plt.axis('scaled')\n",
    "plt.title('Curva ROC')\n",
    "plt.ylabel('Taxa de True Positive')\n",
    "plt.xlabel('Taxa de False Positive')\n",
    "plt.legend()\n",
    "plt.show()"
   ]
  },
  {
   "cell_type": "markdown",
   "metadata": {},
   "source": [
    "<hr style=\"border:2px solid black\"> </hr>"
   ]
  },
  {
   "cell_type": "markdown",
   "metadata": {},
   "source": [
    "# Pergunta 2 - SVMs:\n",
    "## Considere o classificador da função $\\texttt{SVC}$ com os parâmetros $\\texttt{kernel='rbf'}$ e $\\texttt{C=2}$.\n",
    "### a) Faça um pré-processamento dos dados usando a função $\\texttt{StandardScaler}$. Treine esta função com os dados treino e aplique a transformação aos três conjuntos (treino, validação e teste). Use os dados pré-processados nas alíneas seguintes.\n",
    "### b) Pertende-se estimar o valor do parâmetro $\\texttt{gamma}$  ($\\gamma$) mais adequado para este problema. Para tal, use o conjunto de validação para achar o valor de $\\gamma$ que resulta no menor número de erros (treine o $\\texttt{SVC}$ com o conjunto de treino). Teste os seguintes valores de $\\gamma$: $[0.005 , 0.0075, 0.01  , 0.0125, 0.015 , 0.0175]$. Volte a treinar o classificador $\\texttt{SVC}$ com os dados de treino e validação, e com o melhor valor de $\\gamma$. Imprima o número total de erros e matriz de confusão (não normalizada) deste classificador para o conjunto de teste.\n",
    "### c)  Calibre o classificador da alínea anterior de modo a obter zero (0) falsos negativos nos dados de teste. Após a calibração qual o número mínimo de falso positivos obtidos no teste?\n",
    "### d) Faça um plot da curva ROC deste classificador com os dados de teste. Inclua nesse plot o ponto operacional dos classificadores das alíneas 1.b) e 1.c)."
   ]
  },
  {
   "cell_type": "markdown",
   "metadata": {},
   "source": [
    "## 2.a)"
   ]
  },
  {
   "cell_type": "code",
   "execution_count": 6,
   "metadata": {
    "ExecuteTime": {
     "end_time": "2023-12-13T12:28:53.857060919Z",
     "start_time": "2023-12-13T12:28:53.850745739Z"
    }
   },
   "outputs": [],
   "source": [
    "from sklearn.preprocessing import StandardScaler\n",
    "\n",
    "sc   = StandardScaler().fit(X1a)\n",
    "\n",
    "X1an = sc.transform(X1a)\n",
    "X1bn = sc.transform(X1b)\n",
    "X2n  = sc.transform(X2)"
   ]
  },
  {
   "cell_type": "markdown",
   "metadata": {},
   "source": [
    "## 2.b)"
   ]
  },
  {
   "cell_type": "code",
   "execution_count": 7,
   "metadata": {
    "ExecuteTime": {
     "end_time": "2023-12-13T12:28:53.857860582Z",
     "start_time": "2023-12-13T12:28:53.851146271Z"
    }
   },
   "outputs": [
    {
     "name": "stdout",
     "output_type": "stream",
     "text": [
      "Melhores Resultados:\n",
      "Gamma: 0.01\n",
      "Score: 0.99\n",
      "Matriz de confusão a baixo\n",
      "[[63  0]\n",
      " [ 2 35]]\n"
     ]
    }
   ],
   "source": [
    "scoreTop = 0\n",
    "bestG = 0\n",
    "gList = [0.005 , 0.0075, 0.01  , 0.0125, 0.015 , 0.0175]\n",
    "\n",
    "for g in gList:\n",
    "    svm = SVC(kernel='rbf', C=2, gamma=g).fit(X1an,y1a)\n",
    "    score = svm.score(X1bn, y1b) # usar o conjunto de validação\n",
    "    if score > scoreTop:\n",
    "        scoreTop = score\n",
    "        bestG = g\n",
    "\n",
    "MC2b = confusion_matrix(y1b,svm.predict(X1bn))\n",
    "print('Melhores Resultados:')\n",
    "print('Gamma:', bestG)\n",
    "print('Score:', scoreTop)\n",
    "print('Matriz de confusão a baixo')\n",
    "print(MC2b)"
   ]
  },
  {
   "cell_type": "markdown",
   "metadata": {},
   "source": [
    "## 2.c)"
   ]
  },
  {
   "cell_type": "code",
   "execution_count": 8,
   "metadata": {
    "ExecuteTime": {
     "end_time": "2023-12-13T12:28:55.752964385Z",
     "start_time": "2023-12-13T12:28:53.851434702Z"
    }
   },
   "outputs": [
    {
     "name": "stdout",
     "output_type": "stream",
     "text": [
      "Falsos negativos: 0\n",
      "Falsos positivos para o teste: 9\n",
      "Matriz de confusão a baixo\n",
      "[[85  9]\n",
      " [ 0 56]]\n"
     ]
    }
   ],
   "source": [
    "threshold = 1\n",
    "\n",
    "while True:\n",
    "    y2c = svm.decision_function(X2n) > threshold\n",
    "    mcAux = confusion_matrix(y2, y2c)\n",
    "    fn = mcAux[1, 0]    \n",
    "    if fn == 0:\n",
    "        fp = mcAux[0, 1]\n",
    "        break\n",
    "    threshold -= 0.001\n",
    "\n",
    "MC2c = confusion_matrix(y2, y2c)\n",
    "print('Falsos negativos:', fn) #tem de ser 0\n",
    "print('Falsos positivos para o teste:', fp)\n",
    "print('Matriz de confusão a baixo')\n",
    "print(MC2c)"
   ]
  },
  {
   "cell_type": "markdown",
   "metadata": {},
   "source": [
    "## 2.d)"
   ]
  },
  {
   "cell_type": "code",
   "execution_count": 9,
   "metadata": {
    "ExecuteTime": {
     "end_time": "2023-12-13T12:28:55.927310655Z",
     "start_time": "2023-12-13T12:28:55.747768224Z"
    }
   },
   "outputs": [
    {
     "name": "stderr",
     "output_type": "stream",
     "text": [
      "/var/folders/rm/wphhyvx14d30yhg_0366zmm80000gn/T/ipykernel_2301/228751831.py:18: UserWarning: color is redundantly defined by the 'color' keyword argument and the fmt string \"ok\" (-> color='k'). The keyword argument will take precedence.\n",
      "  plt.plot(p1b, p2b, 'ok', color='r', label = 'Ponto Operacional 2b')\n",
      "/var/folders/rm/wphhyvx14d30yhg_0366zmm80000gn/T/ipykernel_2301/228751831.py:19: UserWarning: color is redundantly defined by the 'color' keyword argument and the fmt string \"ok\" (-> color='k'). The keyword argument will take precedence.\n",
      "  plt.plot(p1c, p2c, 'ok', color='g', label = 'Ponto Operacional 2c')\n"
     ]
    },
    {
     "data": {
      "image/png": "[encoded data removed]",
      "text/plain": [
       "<Figure size 400x400 with 1 Axes>"
      ]
     },
     "metadata": {},
     "output_type": "display_data"
    }
   ],
   "source": [
    "X1n = sc.transform(X1)\n",
    "svm = SVC(kernel='rbf', C=2, gamma=bestG).fit(X1n,y1)\n",
    "\n",
    "y2d = svm.decision_function(X2n)\n",
    "\n",
    "fpr, tpr, thresholds = roc_curve(y2, y2d)\n",
    "\n",
    "p1b=MC2b[0,1]/(MC2b[0,1]+MC2b[0,0])\n",
    "p2b=MC2b[1,1]/(MC2b[1,1]+MC2b[1,0])\n",
    "\n",
    "p1c=MC2c[0,1]/(MC2c[0,1]+MC2c[0,0])\n",
    "p2c=MC2c[1,1]/(MC2c[1,1]+MC2c[1,0])\n",
    "\n",
    "# Plot do ponto\n",
    "\n",
    "\n",
    "plt.figure(figsize=(4,4))\n",
    "plt.plot(p1b, p2b, 'ok', color='r', label = 'Ponto Operacional 2b')\n",
    "plt.plot(p1c, p2c, 'ok', color='g', label = 'Ponto Operacional 2c')\n",
    "\n",
    "# Plot da curva ROC\n",
    "plt.plot(fpr, tpr, label = 'Curva ROC')\n",
    "\n",
    "plt.axis('scaled')\n",
    "plt.title('Curva ROC')\n",
    "plt.ylabel('Taxa de True Positive')\n",
    "plt.xlabel('Taxa de False Positive')\n",
    "plt.legend()\n",
    "plt.show()"
   ]
  }
 ],
 "metadata": {
  "kernelspec": {
   "display_name": "Python 3",
   "language": "python",
   "name": "python3"
  },
  "language_info": {
   "codemirror_mode": {
    "name": "ipython",
    "version": 3
   },
   "file_extension": ".py",
   "mimetype": "text/x-python",
   "name": "python",
   "nbconvert_exporter": "python",
   "pygments_lexer": "ipython3",
   "version": "3.12.1"
  }
 },
 "nbformat": 4,
 "nbformat_minor": 4
}

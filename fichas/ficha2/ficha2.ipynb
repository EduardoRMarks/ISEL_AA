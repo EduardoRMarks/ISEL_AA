{
 "cells": [
  {
   "cell_type": "code",
   "execution_count": 2,
   "id": "initial_id",
   "metadata": {
    "collapsed": true,
    "ExecuteTime": {
     "end_time": "2023-11-04T12:21:16.764671044Z",
     "start_time": "2023-11-04T12:21:16.479749449Z"
    }
   },
   "outputs": [],
   "source": [
    "# Imports\n",
    "import matplotlib.pyplot as plt\n",
    "import numpy as np\n",
    "from scipy.linalg import sqrtm\n",
    "import numpy.random as rd"
   ]
  },
  {
   "cell_type": "code",
   "execution_count": 3,
   "outputs": [],
   "source": [
    "import pickle\n",
    "\n",
    "q = pickle.load(open('A45977_Ficha2_Respostas.p', 'rb'))\n",
    "\n",
    "#Pergunta1\n",
    "q['Q001'][0,:] = np.array([0,1,0,0])\n",
    "q['Q001'][1,:] = np.array([1,0,0,0])\n",
    "\n",
    "#Pergunta2\n",
    "q['Q002'][0,:] = np.array([1,0,0,0])\n",
    "q['Q002'][1,:] = np.array([0,1,0,0])\n",
    "q['Q002'][2,:] = np.array([0,0,1,0])\n",
    "q['Q002'][3,:] = np.array([0,1,0,0])\n",
    "q['Q002'][4,:] = np.array([0,0,0,1])\n",
    "\n",
    "#Pergunta3\n",
    "q['Q003'][0,:] = np.array([0,0,1,0])\n",
    "q['Q003'][1,:] = np.array([0,0,0,1])\n",
    "q['Q003'][2,:] = np.array([0,1,0,0])\n",
    "\n",
    "\n",
    "\n",
    "pickle.dump(q, open('A45977_Ficha2_Respostas.p', 'wb'))"
   ],
   "metadata": {
    "collapsed": false,
    "ExecuteTime": {
     "end_time": "2023-11-04T12:21:16.776942293Z",
     "start_time": "2023-11-04T12:21:16.769693724Z"
    }
   },
   "id": "3550c4d3c5cb9394"
  },
  {
   "cell_type": "markdown",
   "source": [
    "# Pergunta 1"
   ],
   "metadata": {
    "collapsed": false
   },
   "id": "7ba5fab0f0ffe5ce"
  },
  {
   "cell_type": "code",
   "execution_count": 5,
   "outputs": [
    {
     "name": "stdout",
     "output_type": "stream",
     "text": [
      "dict_keys(['trueClass', 'trueClassTrain', 'Xtrain', 'trueClassTest', 'Xtest'])\n",
      "Matriz de Confusão \n",
      " [[210   5   6]\n",
      " [  0 108   0]\n",
      " [  5   0  78]]\n"
     ]
    }
   ],
   "source": [
    "from sklearn.metrics import confusion_matrix\n",
    "from sklearn.neighbors import KNeighborsClassifier\n",
    "\n",
    "file = 'A45977_Q001_data.p'\n",
    "\n",
    "Dados = pickle.load(open(file, 'rb'))\n",
    "print(Dados.keys())\n",
    "\n",
    "Xtrain = Dados['Xtrain']\n",
    "y1     = Dados['trueClassTrain']\n",
    "Xtest  = Dados['Xtest']\n",
    "y2     = Dados['trueClassTest']\n",
    "\n",
    "idx1     = np.argsort(y1)\n",
    "y1       = y1[idx1]\n",
    "Xtrain   = Xtrain[:,idx1]\n",
    "\n",
    "idx2     = np.argsort(y2)\n",
    "y2       = y2[idx2]\n",
    "Xtest    = Xtest[:,idx2]\n",
    "\n",
    "def metricaExercicio1(x, y):\n",
    "    diferencaXY = x-y\n",
    "    matrizExercicio1 = np.asarray([[1, -2], \n",
    "                                   [1,  1]])\n",
    "    return np.dot(np.dot(diferencaXY.T, matrizExercicio1), diferencaXY)\n",
    "\n",
    "\n",
    "\n",
    "knn = KNeighborsClassifier(n_neighbors=29, weights='uniform', metric=metricaExercicio1).fit(Xtrain.T, y1)\n",
    "y2e  = knn.predict(Xtest.T)\n",
    "\n",
    "MC = confusion_matrix(y2, y2e)\n",
    "print('Matriz de Confusão \\n', MC)\n",
    "\n",
    "V0E0 = MC[0,0]\n",
    "V1E1 = MC[1,1]\n",
    "V2E2 = MC[2,2]\n",
    "# Erros\n",
    "V0E1 = MC[0,1]\n",
    "V0E2 = MC[0,2]\n",
    "V1E0 = MC[1,0]\n",
    "V1E2 = MC[1,2]\n",
    "V2E0 = MC[2,0]\n",
    "V2E1 = MC[2,1]"
   ],
   "metadata": {
    "collapsed": false,
    "ExecuteTime": {
     "end_time": "2023-11-04T12:21:31.906707863Z",
     "start_time": "2023-11-04T12:21:31.652493716Z"
    }
   },
   "id": "12c51100f8d60879"
  },
  {
   "cell_type": "markdown",
   "source": [
    "# a) ii"
   ],
   "metadata": {
    "collapsed": false
   },
   "id": "1f6cca3c428e0cc"
  },
  {
   "cell_type": "code",
   "execution_count": 86,
   "outputs": [
    {
     "name": "stdout",
     "output_type": "stream",
     "text": [
      "i)  108\n",
      "ii)  16\n"
     ]
    }
   ],
   "source": [
    "print('i) ' , V1E1) #F\n",
    "print('ii) ', (V0E1 + V0E2 + V1E0 + V1E2 + V2E0 + V2E1)) #V"
   ],
   "metadata": {
    "collapsed": false,
    "ExecuteTime": {
     "end_time": "2023-10-28T15:21:03.554311Z",
     "start_time": "2023-10-28T15:21:03.352999500Z"
    }
   },
   "id": "16d4a01334ba92b5"
  },
  {
   "cell_type": "markdown",
   "source": [
    "# b) i"
   ],
   "metadata": {
    "collapsed": false
   },
   "id": "4f8c03500048fa09"
  },
  {
   "cell_type": "code",
   "execution_count": 87,
   "outputs": [
    {
     "name": "stdout",
     "output_type": "stream",
     "text": [
      "i) 108\n",
      "ii) 5\n"
     ]
    }
   ],
   "source": [
    "print('i)', V1E1) #V\n",
    "print('ii)', V2E0) #F"
   ],
   "metadata": {
    "collapsed": false,
    "ExecuteTime": {
     "end_time": "2023-10-28T15:21:03.554311Z",
     "start_time": "2023-10-28T15:21:03.357016Z"
    }
   },
   "id": "ee07e5c41f374b74"
  },
  {
   "cell_type": "markdown",
   "source": [
    "# Pergunta 2"
   ],
   "metadata": {
    "collapsed": false
   },
   "id": "af6c6804d5073bbf"
  },
  {
   "cell_type": "code",
   "execution_count": 88,
   "outputs": [
    {
     "name": "stdout",
     "output_type": "stream",
     "text": [
      "[[ 0  2  1 -2  3  1  3  1]\n",
      " [-1 -3 -4 -3 -2  2  1 -2]]\n",
      "\n",
      "[[ 0  2  1 -2]\n",
      " [-1 -3 -4 -3]]\n",
      "\n",
      "[[ 3  1  3  1]\n",
      " [-2  2  1 -2]]\n"
     ]
    }
   ],
   "source": [
    "X = np.array([[0, 2, 1, -2, 3, 1, 3, 1],\n",
    "              [-1, -3, -4, -3, -2, 2, 1, -2]])\n",
    "print(X)\n",
    "print()\n",
    "X0 = X[:,:4]\n",
    "print(X0)\n",
    "print()\n",
    "X1 = X[:,4:]\n",
    "print(X1)"
   ],
   "metadata": {
    "collapsed": false,
    "ExecuteTime": {
     "end_time": "2023-10-28T15:21:03.554311Z",
     "start_time": "2023-10-28T15:21:03.368764900Z"
    }
   },
   "id": "da1a37aedec6841f"
  },
  {
   "cell_type": "markdown",
   "source": [
    "# a) i"
   ],
   "metadata": {
    "collapsed": false
   },
   "id": "13542d9c4fa79a50"
  },
  {
   "cell_type": "code",
   "execution_count": 89,
   "outputs": [
    {
     "name": "stdout",
     "output_type": "stream",
     "text": [
      "i) 4.25:  4.25\n",
      "ii) 0.93:   0.79\n"
     ]
    }
   ],
   "source": [
    "m0 = np.mean(X0, axis=1)\n",
    "m1 = np.mean(X1, axis=1)\n",
    "\n",
    "Xtmp     = m0 - m1\n",
    "Dmedia   = np.sum(np.abs(Xtmp),axis=0)\n",
    "print('i) 4.25: ', np.round(Dmedia,2)) # V\n",
    "\n",
    "Aux = np.dot(m0,m1)\n",
    "Dmedia = 1 - Aux/np.dot(np.sqrt(np.sum(m0**2)),np.sqrt(np.sum(m1**2)))\n",
    "print('ii) 0.93:  ',  np.round(Dmedia,2)) # F"
   ],
   "metadata": {
    "collapsed": false,
    "ExecuteTime": {
     "end_time": "2023-10-28T15:21:03.554311Z",
     "start_time": "2023-10-28T15:21:03.381506900Z"
    }
   },
   "id": "a576128aed899557"
  },
  {
   "cell_type": "markdown",
   "source": [
    "# b) ii"
   ],
   "metadata": {
    "collapsed": false
   },
   "id": "e58beb856487f459"
  },
  {
   "cell_type": "code",
   "execution_count": 90,
   "outputs": [
    {
     "name": "stdout",
     "output_type": "stream",
     "text": [
      "Matriz de Confusão\n",
      " [[4 0]\n",
      " [1 3]]\n",
      "\n",
      "i)Verdadeiros Negativos é 3\": 4\n",
      "ii) Verdadeiros Positivos é 3: 3\n"
     ]
    }
   ],
   "source": [
    "D0  = np.sqrt(np.sum((X-m0[:,np.newaxis])**2, axis=0))\n",
    "D1  = np.sqrt(np.sum((X-m1[:,np.newaxis])**2, axis=0))\n",
    "Dc  = np.vstack((D0, D1)) \n",
    "yec = np.argmin(Dc, axis=0)\n",
    "y = np.asarray([0,0,0,0,1,1,1,1])\n",
    "MC = confusion_matrix(y, yec)\n",
    "print('Matriz de Confusão\\n', MC)\n",
    "\n",
    "# Se 0 > Negativo \n",
    "#    1 > Positivo\n",
    "# Tem-se:\n",
    "#\n",
    "#        estimado\n",
    "#          0  1\n",
    "# real  0 TN FP\n",
    "#       1 FN TP\n",
    "TN = MC[0,0]\n",
    "FP = MC[0,1]\n",
    "FN = MC[1,0]\n",
    "TP = MC[1,1]\n",
    "print()\n",
    "print('i)Verdadeiros Negativos é 3\":', TN) # F\n",
    "print('ii) Verdadeiros Positivos é 3:', TP)   # V"
   ],
   "metadata": {
    "collapsed": false,
    "ExecuteTime": {
     "end_time": "2023-10-28T15:21:03.554311Z",
     "start_time": "2023-10-28T15:21:03.389024Z"
    }
   },
   "id": "586dc0819ca78f97"
  },
  {
   "cell_type": "markdown",
   "source": [
    "# c) iii"
   ],
   "metadata": {
    "collapsed": false
   },
   "id": "c92d315e306a5297"
  },
  {
   "cell_type": "code",
   "execution_count": 91,
   "outputs": [
    {
     "name": "stdout",
     "output_type": "stream",
     "text": [
      "[[ 4  4]\n",
      " [ 0 -1]]\n",
      "[1 1]\n",
      "i)  O vetor x = [4, 0]T é classificado na classe w1:  1\n",
      "ii) O vetor x = [4, -1]T é classificado na classe w1:  1\n"
     ]
    }
   ],
   "source": [
    "from numpy.linalg import pinv\n",
    "S0 = np.cov(X0)\n",
    "S1 = np.cov(X1)\n",
    "\n",
    "# Inverter covariância\n",
    "S0i = pinv(S0)\n",
    "S1i = pinv(S1)\n",
    "\n",
    "Xi   = np.asarray([[4], [0]])\n",
    "Xii  = np.asarray([[4], [-1]])\n",
    "Xa   = np.hstack((Xi, Xii))\n",
    "print(Xa)\n",
    "D0a  = np.sqrt(np.sum((Xa-m0[:,np.newaxis])*np.dot(S0i,Xa-m0[:,np.newaxis]), axis = 0))\n",
    "D1a  = np.sqrt(np.sum((Xa-m1[:,np.newaxis])*np.dot(S1i,Xa-m1[:,np.newaxis]), axis = 0))\n",
    "Da   = np.vstack((D0a, D1a))\n",
    "yea  = np.argmin(Da, axis=0)\n",
    "print(yea)\n",
    "\n",
    "print('i)  O vetor x = [4, 0]T é classificado na classe w1: ', yea[0]) # v\n",
    "print('ii) O vetor x = [4, -1]T é classificado na classe w1: ', yea[1]) # v\n",
    "\n"
   ],
   "metadata": {
    "collapsed": false,
    "ExecuteTime": {
     "end_time": "2023-10-28T15:21:03.554311Z",
     "start_time": "2023-10-28T15:21:03.405456Z"
    }
   },
   "id": "aaa4736b169df9cb"
  },
  {
   "cell_type": "markdown",
   "source": [
    "# d) ii"
   ],
   "metadata": {
    "collapsed": false
   },
   "id": "33191f7c0be37d3c"
  },
  {
   "cell_type": "code",
   "execution_count": 92,
   "outputs": [
    {
     "name": "stdout",
     "output_type": "stream",
     "text": [
      "Matriz de Confusão\n",
      " [[4 0]\n",
      " [1 3]]\n",
      "\n",
      "i)  acertos na classe dos positivos é de 4:  3\n",
      "ii) O número total de erros é 1: 1\n"
     ]
    }
   ],
   "source": [
    "Aux0 = np.dot(X.T,m0)\n",
    "D0 = 1 - Aux0/np.dot(np.sqrt(np.sum(X**2)),np.sqrt(np.sum(m0**2)))\n",
    "Aux1 = np.dot(X.T,m1)\n",
    "D1 = 1 - Aux1/np.dot(np.sqrt(np.sum(X**2)),np.sqrt(np.sum(m1**2)))\n",
    "\n",
    "Dd  = np.vstack((D0, D1)) \n",
    "yed = np.argmin(Dd, axis=0) \n",
    "\n",
    "MC = confusion_matrix(y, yed)\n",
    "print('Matriz de Confusão\\n', MC)\n",
    "TN = MC[0,0]\n",
    "FP = MC[0,1]\n",
    "FN = MC[1,0]\n",
    "TP = MC[1,1]\n",
    "print()\n",
    "print('i)  acertos na classe dos positivos é de 4: ', TP)  # F\n",
    "print('ii) O número total de erros é 1:', FN+FP) # V"
   ],
   "metadata": {
    "collapsed": false,
    "ExecuteTime": {
     "end_time": "2023-10-28T15:21:03.554311Z",
     "start_time": "2023-10-28T15:21:03.417021100Z"
    }
   },
   "id": "800edb4ba45db273"
  },
  {
   "cell_type": "markdown",
   "source": [
    "# e) iv"
   ],
   "metadata": {
    "collapsed": false
   },
   "id": "b9fd3f0d95f899b"
  },
  {
   "cell_type": "code",
   "execution_count": 93,
   "outputs": [
    {
     "name": "stdout",
     "output_type": "stream",
     "text": [
      "[[ 3  4]\n",
      " [ 0 -4]]\n",
      "i) O vetor x = [3, 0]T é classificado na classe w0: 1\n",
      "ii) O vetor x = [4, -4]T é classificado na classe w1: 0\n"
     ]
    }
   ],
   "source": [
    "Xi   = np.asarray([[3], [0]])\n",
    "Xii  = np.asarray([[4], [-4]])\n",
    "Xb   = np.hstack((Xi, Xii))\n",
    "print(Xb)\n",
    "Xtmp = Xb-m0[:,np.newaxis]\n",
    "D0   = np.sum(np.abs(Xtmp),axis=0)\n",
    "Xtmp = Xb-m1[:,np.newaxis]\n",
    "D1   = np.sum(np.abs(Xtmp),axis=0)\n",
    "Db   = np.vstack((D0, D1))\n",
    "yeb  = np.argmin(Db, axis=0)\n",
    "\n",
    "print('i) O vetor x = [3, 0]T é classificado na classe w0:', yeb[0])  # F\n",
    "print('ii) O vetor x = [4, -4]T é classificado na classe w1:', yeb[1]) # F"
   ],
   "metadata": {
    "collapsed": false,
    "ExecuteTime": {
     "end_time": "2023-10-28T15:21:03.558295Z",
     "start_time": "2023-10-28T15:21:03.429147500Z"
    }
   },
   "id": "f60bb5b1492ebe8e"
  },
  {
   "cell_type": "markdown",
   "source": [
    "# Pergunta 3"
   ],
   "metadata": {
    "collapsed": false
   },
   "id": "3578d77663b1d731"
  },
  {
   "cell_type": "code",
   "execution_count": 94,
   "outputs": [
    {
     "name": "stdout",
     "output_type": "stream",
     "text": [
      "dict_keys(['trueClass', 'estClass'])\n",
      "\n",
      "Matriz de Confusão \n",
      " [[1197  103]\n",
      " [  57  643]]\n"
     ]
    }
   ],
   "source": [
    "file = 'A45977_Q003_data.p'\n",
    "\n",
    "Dados = pickle.load(open(file, 'rb'))\n",
    "print(Dados.keys())\n",
    "y  = Dados['trueClass']\n",
    "ye = Dados['estClass']\n",
    "MC = confusion_matrix(y, ye)\n",
    "print('\\nMatriz de Confusão \\n', MC)\n",
    "\n",
    "# Se 0 > Negativo \n",
    "#    1 > Positivo\n",
    "# Tem-se:\n",
    "#\n",
    "#        estimado\n",
    "#          0  1\n",
    "# real  0 TN FP\n",
    "#       1 FN TP\n",
    "TN = MC[0,0]\n",
    "FP = MC[0,1]\n",
    "FN = MC[1,0]\n",
    "TP = MC[1,1]"
   ],
   "metadata": {
    "collapsed": false,
    "ExecuteTime": {
     "end_time": "2023-10-28T15:21:03.558295Z",
     "start_time": "2023-10-28T15:21:03.441325500Z"
    }
   },
   "id": "d0545126a3700df1"
  },
  {
   "cell_type": "markdown",
   "source": [
    "# a) iii"
   ],
   "metadata": {
    "collapsed": false
   },
   "id": "178d69f46858471c"
  },
  {
   "cell_type": "code",
   "execution_count": 95,
   "outputs": [
    {
     "name": "stdout",
     "output_type": "stream",
     "text": [
      "i) A percentagem total de erro é de 8.0%: 8.0 %\n",
      "ii) A percentagem de exemplos da classe dos negativos é de 65.0%: 65.0 %\n"
     ]
    }
   ],
   "source": [
    "print('i) A percentagem total de erro é de 8.0%:', str((FN+FP)/(TN+FP+FN+TP) * 100), '%') # V\n",
    "print('ii) A percentagem de exemplos da classe dos negativos é de 65.0%:', str((FP+TN)/(TN+FP+FN+TP) * 100), '%') # V"
   ],
   "metadata": {
    "collapsed": false,
    "ExecuteTime": {
     "end_time": "2023-10-28T15:21:03.558295Z",
     "start_time": "2023-10-28T15:21:03.452900900Z"
    }
   },
   "id": "5859280233f14c1f"
  },
  {
   "cell_type": "markdown",
   "source": [
    "# b) iv"
   ],
   "metadata": {
    "collapsed": false
   },
   "id": "9b322f5d5999b99e"
  },
  {
   "cell_type": "code",
   "execution_count": 96,
   "outputs": [
    {
     "name": "stdout",
     "output_type": "stream",
     "text": [
      "i) A precisão (precision) é 0.732: 0.862\n",
      "ii) A taxa de falso positivos (falsos alarmes) é: 0.000: 0.147\n"
     ]
    }
   ],
   "source": [
    "precision = TP/(TP+FP)\n",
    "recall    = FP/(TP+FN)\n",
    "\n",
    "print('i) A precisão (precision) é 0.732:', str(np.round(precision, 3))) #F\n",
    "print('ii) A taxa de falso positivos (falsos alarmes) é: 0.000:', str(np.round(recall, 3))) #F"
   ],
   "metadata": {
    "collapsed": false,
    "ExecuteTime": {
     "end_time": "2023-10-28T15:21:03.558295Z",
     "start_time": "2023-10-28T15:21:03.460444Z"
    }
   },
   "id": "5e5db1f0fe7b5b86"
  },
  {
   "cell_type": "markdown",
   "source": [
    "# c) ii"
   ],
   "metadata": {
    "collapsed": false
   },
   "id": "6dc2403eb902bebc"
  },
  {
   "cell_type": "code",
   "execution_count": 97,
   "outputs": [
    {
     "name": "stdout",
     "output_type": "stream",
     "text": [
      "i) O número de Falsos Negativos é 96: 57\n",
      "ii) O número de Verdadeiros Positivos é 643: 643\n"
     ]
    }
   ],
   "source": [
    "print('i) O número de Falsos Negativos é 96:', FN) # F\n",
    "print('ii) O número de Verdadeiros Positivos é 643:', TP) # V"
   ],
   "metadata": {
    "collapsed": false,
    "ExecuteTime": {
     "end_time": "2023-10-28T15:21:03.558295Z",
     "start_time": "2023-10-28T15:21:03.468047200Z"
    }
   },
   "id": "b2b6afa9a6c0c10f"
  },
  {
   "cell_type": "markdown",
   "source": [
    "# Confirmação"
   ],
   "metadata": {
    "collapsed": false
   },
   "id": "5f231967a57e5f2"
  },
  {
   "cell_type": "code",
   "execution_count": 98,
   "outputs": [
    {
     "name": "stdout",
     "output_type": "stream",
     "text": [
      "1a): 2\n",
      "1b): 1\n",
      "\n",
      "2a): 1\n",
      "2b): 2\n",
      "2c): 3\n",
      "2d): 2\n",
      "2e): 4\n",
      "\n",
      "3a): 3\n",
      "3b): 4\n",
      "3c): 2\n"
     ]
    }
   ],
   "source": [
    "QuestDic=pickle.load(open('A45977_Ficha2_Respostas.p','rb'))\n",
    "# Pergunta 1\n",
    "print('1a):', np.where(QuestDic['Q001'][0,:] == 1)[0][0] + 1)\n",
    "print('1b):', np.where(QuestDic['Q001'][1,:] == 1)[0][0] + 1)\n",
    "print()\n",
    "# Pergunta 2\n",
    "print('2a):', np.where(QuestDic['Q002'][0,:] == 1)[0][0] + 1)\n",
    "print('2b):', np.where(QuestDic['Q002'][1,:] == 1)[0][0] + 1)\n",
    "print('2c):', np.where(QuestDic['Q002'][2,:] == 1)[0][0] + 1)\n",
    "print('2d):', np.where(QuestDic['Q002'][3,:] == 1)[0][0] + 1)\n",
    "print('2e):', np.where(QuestDic['Q002'][4,:] == 1)[0][0] + 1)\n",
    "print()\n",
    "## Pergunta 3\n",
    "print('3a):', np.where(QuestDic['Q003'][0,:] == 1)[0][0] + 1)\n",
    "print('3b):', np.where(QuestDic['Q003'][1,:] == 1)[0][0] + 1)\n",
    "print('3c):', np.where(QuestDic['Q003'][2,:] == 1)[0][0] + 1)\n"
   ],
   "metadata": {
    "collapsed": false,
    "ExecuteTime": {
     "end_time": "2023-10-28T15:21:03.558295Z",
     "start_time": "2023-10-28T15:21:03.481395500Z"
    }
   },
   "id": "3a040a06102b8f05"
  },
  {
   "cell_type": "code",
   "execution_count": 98,
   "outputs": [],
   "source": [],
   "metadata": {
    "collapsed": false,
    "ExecuteTime": {
     "end_time": "2023-10-28T15:21:03.558295Z",
     "start_time": "2023-10-28T15:21:03.490293800Z"
    }
   },
   "id": "5a0ef6a61cf720f8"
  }
 ],
 "metadata": {
  "kernelspec": {
   "display_name": "Python 3",
   "language": "python",
   "name": "python3"
  },
  "language_info": {
   "codemirror_mode": {
    "name": "ipython",
    "version": 2
   },
   "file_extension": ".py",
   "mimetype": "text/x-python",
   "name": "python",
   "nbconvert_exporter": "python",
   "pygments_lexer": "ipython2",
   "version": "2.7.6"
  }
 },
 "nbformat": 4,
 "nbformat_minor": 5
}

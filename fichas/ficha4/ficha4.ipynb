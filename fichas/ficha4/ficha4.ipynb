{
 "cells": [
  {
   "cell_type": "code",
   "execution_count": 3,
   "id": "initial_id",
   "metadata": {
    "ExecuteTime": {
     "end_time": "2023-12-17T14:11:11.525500516Z",
     "start_time": "2023-12-17T14:11:11.419006371Z"
    },
    "collapsed": true
   },
   "outputs": [],
   "source": [
    "# Imports\n",
    "import matplotlib.pyplot   as plt\n",
    "import numpy               as np\n",
    "import numpy.random        as rd\n",
    "import sklearn.datasets    as dt\n",
    "import scipy.linalg as la\n",
    "\n",
    "\n",
    "from sklearn.preprocessing import PolynomialFeatures\n",
    "from sklearn.linear_model  import LinearRegression\n",
    "from sklearn.linear_model  import Lasso\n",
    "from sklearn.metrics       import confusion_matrix"
   ]
  },
  {
   "cell_type": "code",
   "execution_count": 4,
   "id": "a9d594fac364295d",
   "metadata": {
    "ExecuteTime": {
     "end_time": "2023-12-17T14:13:24.930712861Z",
     "start_time": "2023-12-17T14:13:24.912493527Z"
    },
    "collapsed": false
   },
   "outputs": [],
   "source": [
    "import pickle\n",
    "\n",
    "q = pickle.load(open('A45977_Ficha4_Respostas.p', 'rb'))\n",
    "\n",
    "q['Q001'][0,:]=np.array([0,1,0,0])\n",
    "q['Q001'][1,:]=np.array([0,1,0,0])\n",
    "q['Q001'][2,:]=np.array([0,0,0,1])\n",
    "\n",
    "q['Q002'][0,:]=np.array([1,0,0,0])\n",
    "q['Q002'][1,:]=np.array([1,0,1,0])\n",
    "\n",
    "q['Q003'][0,:]=np.array([0,0,0,1])\n",
    "q['Q003'][1,:]=np.array([1,0,0,0])\n",
    "q['Q003'][2,:]=np.array([1,0,0,0])\n",
    "\n",
    "pickle.dump(q,open('A45977_Ficha4_Respostas.p','wb'))"
   ]
  },
  {
   "cell_type": "markdown",
   "id": "6e37d06047417f4d",
   "metadata": {
    "collapsed": false
   },
   "source": [
    "# Pergunta 1"
   ]
  },
  {
   "cell_type": "code",
   "execution_count": 5,
   "id": "11672836b16b02f6",
   "metadata": {
    "ExecuteTime": {
     "end_time": "2023-12-17T14:13:27.235621755Z",
     "start_time": "2023-12-17T14:13:27.226332735Z"
    },
    "collapsed": false
   },
   "outputs": [],
   "source": [
    "D = pickle.load(open('A45977_Q001_data.p','rb'))\n",
    "x = D['X']\n",
    "y = D['y']\n",
    "\n",
    "# X =  1\n",
    "#     x1\n",
    "#     x2      >>    x já tem 2 dimensões/linhas, logo basta colocar um array de 1s acima\n",
    "X = np.vstack((np.ones(x.shape[1]), x))\n",
    "idx = np.argsort(y)\n",
    "y = y[idx]\n",
    "X = X[:,idx]\n",
    "\n",
    "# Colocar w0 a -1 de modo a comparar posteriormente\n",
    "y[y==0] = -1"
   ]
  },
  {
   "cell_type": "markdown",
   "id": "16069bb69c992505",
   "metadata": {
    "collapsed": false
   },
   "source": [
    "# a) ii"
   ]
  },
  {
   "cell_type": "code",
   "execution_count": 6,
   "id": "96b34be816398aed",
   "metadata": {
    "ExecuteTime": {
     "end_time": "2023-12-17T14:13:27.886756299Z",
     "start_time": "2023-12-17T14:13:27.836232804Z"
    },
    "collapsed": false
   },
   "outputs": [
    {
     "name": "stdout",
     "output_type": "stream",
     "text": [
      "[[ 418  133]\n",
      " [ 256 1552]]\n",
      "\n",
      "i) O número de acertos na classe w0 é de 407: 418\n",
      "ii) O valor do recall é de 0.858: 0.858\n"
     ]
    }
   ],
   "source": [
    "w = np.array([0.00, 0.89, 0.45])\n",
    "ye = np.dot(w.T, X)\n",
    "\n",
    "Ye = ye.copy()\n",
    "Ye[ye < 0] = -1\n",
    "Ye[ye >= 0] = 1\n",
    "\n",
    "CM = confusion_matrix(y, Ye)\n",
    "print(CM)\n",
    "print('\\ni) O número de acertos na classe w0 é de 407:', CM[0, 0])\n",
    "print('ii) O valor do recall é de 0.858:', round(CM[1, 1]/(CM[1, 1]+CM[1, 0]), 3))\n"
   ]
  },
  {
   "cell_type": "markdown",
   "id": "bd4b6ff4922bb843",
   "metadata": {
    "collapsed": false
   },
   "source": [
    "# b) ii"
   ]
  },
  {
   "cell_type": "code",
   "execution_count": 7,
   "id": "9b9833b98d4340f0",
   "metadata": {
    "ExecuteTime": {
     "end_time": "2023-12-17T14:13:28.065819165Z",
     "start_time": "2023-12-17T14:13:27.970312611Z"
    },
    "collapsed": false
   },
   "outputs": [
    {
     "name": "stdout",
     "output_type": "stream",
     "text": [
      "[[ 544    7]\n",
      " [  70 1738]]\n",
      "\n",
      "i) A taxa de falsos alarmes é de 0.045: 0.02967359050445104\n",
      "ii) O número total de acertos é de 2282: 2282\n",
      "iii) O número de erros na classe w1 é de 78: 70\n",
      "iv) O valor da precisão é de 0.986: 0.9673590504451038\n"
     ]
    }
   ],
   "source": [
    "w = np.array([0.00, 0.61, 0.79])\n",
    "ye = np.dot(w.T, X)\n",
    "\n",
    "Ye = ye.copy()\n",
    "Ye[ye < 0] = -1\n",
    "Ye[ye >= 0] = 1\n",
    "\n",
    "CM = confusion_matrix(y, Ye)\n",
    "print(CM)\n",
    "print('\\ni) A taxa de falsos alarmes é de 0.045:', 70/(70+544+1738+7))\n",
    "print('ii) O número total de acertos é de 2282:', 544 + 1738)\n",
    "print('iii) O número de erros na classe w1 é de 78:', CM[1, 0])\n",
    "print('iv) O valor da precisão é de 0.986:', (544 + 1738)/(70+544+1738+7))"
   ]
  },
  {
   "cell_type": "markdown",
   "id": "48a71e91d4bb0192",
   "metadata": {
    "collapsed": false
   },
   "source": [
    "# c) iv"
   ]
  },
  {
   "cell_type": "code",
   "execution_count": 8,
   "id": "142ff1bb492e0169",
   "metadata": {
    "ExecuteTime": {
     "end_time": "2023-12-17T14:13:28.327919941Z",
     "start_time": "2023-12-17T14:13:28.071237538Z"
    },
    "collapsed": false
   },
   "outputs": [
    {
     "name": "stdout",
     "output_type": "stream",
     "text": [
      "[[ 357  194]\n",
      " [   0 1808]]\n",
      "\n",
      "i) O número de acertos na classe w1 é de 1802: 1808\n",
      "ii) O vetor que minimiza o erro quadrático médio é wMSE = [−0.760, 1.105, 1.225] [0.23988649 0.10517952 0.22525089]\n"
     ]
    }
   ],
   "source": [
    "Rx   = np.dot(X, X.T)\n",
    "rxy  = np.dot(X, y.T)\n",
    "wMSE = np.dot(la.pinv(Rx), rxy)\n",
    "\n",
    "ye = np.dot(wMSE.T, X)\n",
    "Ye = ye.copy()\n",
    "\n",
    "Ye[ye<0]  = -1\n",
    "Ye[ye>=0] =  1\n",
    "\n",
    "CM = confusion_matrix(y, Ye)\n",
    "print(CM)\n",
    "print('\\ni) O número de acertos na classe w1 é de 1802:', CM[1, 1])\n",
    "print('ii) O vetor que minimiza o erro quadrático médio é wMSE = [−0.760, 1.105, 1.225]', wMSE)"
   ]
  },
  {
   "cell_type": "markdown",
   "id": "7070d4b3716d4294",
   "metadata": {
    "collapsed": false
   },
   "source": [
    "# Pergunta 2"
   ]
  },
  {
   "cell_type": "code",
   "execution_count": 9,
   "id": "5cdaca0bbca0c8e8",
   "metadata": {
    "ExecuteTime": {
     "end_time": "2023-12-17T14:13:28.400342054Z",
     "start_time": "2023-12-17T14:13:28.113028325Z"
    },
    "collapsed": false
   },
   "outputs": [
    {
     "data": {
      "text/plain": [
       "Text(0.5, 1.0, 'Dados')"
      ]
     },
     "execution_count": 9,
     "metadata": {},
     "output_type": "execute_result"
    },
    {
     "data": {
      "image/png": "[encoded data removed]",
      "text/plain": [
       "<Figure size 640x480 with 1 Axes>"
      ]
     },
     "metadata": {},
     "output_type": "display_data"
    }
   ],
   "source": [
    "D = pickle.load(open('A45977_Q002_data.p','rb'))\n",
    "x = D['x']\n",
    "y = D['y']\n",
    "f = D['folds']\n",
    "\n",
    "plt.plot(x, y, '.', color='b')\n",
    "plt.title('Dados')\n"
   ]
  },
  {
   "cell_type": "markdown",
   "id": "3d18be803e9e8471",
   "metadata": {
    "collapsed": false
   },
   "source": [
    "# a) i"
   ]
  },
  {
   "cell_type": "code",
   "execution_count": 10,
   "id": "1b2c640f544b9701",
   "metadata": {
    "ExecuteTime": {
     "end_time": "2023-12-17T14:13:28.419306279Z",
     "start_time": "2023-12-17T14:13:28.333994159Z"
    },
    "collapsed": false
   },
   "outputs": [
    {
     "name": "stdout",
     "output_type": "stream",
     "text": [
      "i) No conjunto de treino, o coeficiente de determinação, R2, é igual a 0.81: 0.81\n",
      "ii) No conjunto de treino, o erro absoluto medio é igual a 1.37: 0.97\n"
     ]
    }
   ],
   "source": [
    "# treino\n",
    "x1 = x[f==1]\n",
    "y1 = y[f==1]\n",
    "# teste\n",
    "x2 = x[f==0]\n",
    "y2 = y[f==0]\n",
    "\n",
    "# Adicionar 2ª dimensão\n",
    "X1 = x1[:,np.newaxis]\n",
    "X2 = x2[:,np.newaxis]\n",
    "\n",
    "# Estimar polinomio com os dados de treino\n",
    "poly = PolynomialFeatures(degree=3).fit(X1)\n",
    "X1a  = poly.transform(X1)\n",
    "X2a  = poly.transform(X2)\n",
    "\n",
    "# Fazer a regressão linear\n",
    "lr = LinearRegression().fit(X1a, y1)\n",
    "y1e = lr.predict(X1a)\n",
    "y2e = lr.predict(X2a)\n",
    "\n",
    "print('i) No conjunto de treino, o coeficiente de determinação, R2, é igual a 0.81:', round(lr.score(X1a,y1), 2))\n",
    "print('ii) No conjunto de treino, o erro absoluto medio é igual a 1.37:', round(np.mean(np.abs(y1-y1e)), 2))\n",
    "\n",
    "# Alínea c)"
   ]
  },
  {
   "cell_type": "markdown",
   "id": "25211d04c86c46d0",
   "metadata": {
    "collapsed": false
   },
   "source": [
    "# b) i"
   ]
  },
  {
   "cell_type": "code",
   "execution_count": 11,
   "id": "2b15ab352771de45",
   "metadata": {
    "ExecuteTime": {
     "end_time": "2023-12-17T14:13:28.498395287Z",
     "start_time": "2023-12-17T14:13:28.409423819Z"
    },
    "collapsed": false
   },
   "outputs": [
    {
     "name": "stdout",
     "output_type": "stream",
     "text": [
      "i) Arredondando a zero casas decimais, o valor de w0 é -98: -98\n",
      "ii) No conjunto de treino, o erro absoluto médio é igual a 1.14: 0.66\n"
     ]
    }
   ],
   "source": [
    "# treino\n",
    "x1 = x[f==1]\n",
    "y1 = y[f==1]\n",
    "# teste\n",
    "x2 = x[f==0]\n",
    "y2 = y[f==0]\n",
    "\n",
    "# Adicionar 2ª dimensão\n",
    "X1 = x1[:,np.newaxis]\n",
    "X2 = x2[:,np.newaxis]\n",
    "\n",
    "# Estimar polinomio com os dados de treino\n",
    "poly = PolynomialFeatures(degree=4).fit(X1)\n",
    "X1a  = poly.transform(X1)\n",
    "X2a  = poly.transform(X2)\n",
    "\n",
    "# Fazer a regressão linear\n",
    "lr = LinearRegression().fit(X1a, y1)\n",
    "y1e = lr.predict(X1a)\n",
    "y2e = lr.predict(X2a)\n",
    "\n",
    "print('i) Arredondando a zero casas decimais, o valor de w0 é -98:', round(lr.intercept_))\n",
    "print('ii) No conjunto de treino, o erro absoluto médio é igual a 1.14:', round(np.mean((y1-y1e)**2), 2))\n",
    "\n",
    "# Alínea c)"
   ]
  },
  {
   "cell_type": "markdown",
   "id": "d0eef47c292a97ef",
   "metadata": {
    "collapsed": false
   },
   "source": [
    "# Pergunta 3"
   ]
  },
  {
   "cell_type": "code",
   "execution_count": 12,
   "id": "749fc0778f7be3cb",
   "metadata": {
    "ExecuteTime": {
     "end_time": "2023-12-17T14:13:28.499843737Z",
     "start_time": "2023-12-17T14:13:28.464856255Z"
    },
    "collapsed": false
   },
   "outputs": [],
   "source": [
    "D = dt.load_diabetes()\n",
    "#print(D.keys())\n",
    "X = D.data\n",
    "y = D.target\n",
    "\n",
    "# Primeiras 243 para treino, resto teste...\n",
    "X1, X2 = X[:240,:], X[240:, :]\n",
    "y1, y2 = y[:240],   y[240:]"
   ]
  },
  {
   "cell_type": "markdown",
   "id": "eb771978cb3e8627",
   "metadata": {
    "collapsed": false
   },
   "source": [
    "# a) iv"
   ]
  },
  {
   "cell_type": "code",
   "execution_count": 13,
   "id": "52e4f00f01b2e69e",
   "metadata": {
    "ExecuteTime": {
     "end_time": "2023-12-17T14:13:28.873812253Z",
     "start_time": "2023-12-17T14:13:28.746441228Z"
    },
    "collapsed": false
   },
   "outputs": [
    {
     "name": "stdout",
     "output_type": "stream",
     "text": [
      "i) No conjunto de teste, o erro quadrático médio é igual a 10023.71: 3706.54\n",
      "ii) No conjunto de treino, o erro quadrático médio é igual a 5470.19:   2176.71\n"
     ]
    }
   ],
   "source": [
    "poly = PolynomialFeatures(degree=2).fit(X1)\n",
    "X1a  = poly.transform(X1)\n",
    "X2a  = poly.transform(X2)\n",
    "rl   = LinearRegression().fit(X1a, y1)\n",
    "y1e  = rl.predict(X1a)\n",
    "y2e  = rl.predict(X2a)\n",
    "\n",
    "print('i) No conjunto de teste, o erro quadrático médio é igual a 10023.71:', round(np.mean((y2-y2e)**2), 2))\n",
    "print('ii) No conjunto de treino, o erro quadrático médio é igual a 5470.19:  ', round(np.mean((y1-y1e)**2), 2))"
   ]
  },
  {
   "cell_type": "markdown",
   "id": "5de265013ff2405f",
   "metadata": {
    "collapsed": false
   },
   "source": [
    "# b) i"
   ]
  },
  {
   "cell_type": "code",
   "execution_count": 14,
   "id": "db656188fe10cec4",
   "metadata": {
    "ExecuteTime": {
     "end_time": "2023-12-17T14:13:29.456859695Z",
     "start_time": "2023-12-17T14:13:29.429975080Z"
    },
    "collapsed": false
   },
   "outputs": [
    {
     "name": "stdout",
     "output_type": "stream",
     "text": [
      "i) O número de coeficientes, incluindo w0, numa regressão polinomial de ordem 3, é igual a 286:   286\n",
      "ii) O número de coeficientes, incluindo w0, numa regressão polinomial de ordem 4, é igual a 995:  1001\n"
     ]
    }
   ],
   "source": [
    "print('i) O número de coeficientes, incluindo w0, numa regressão polinomial de ordem 3, é igual a 286:  ',  PolynomialFeatures(degree=3).fit(X1).n_output_features_)\n",
    "print('ii) O número de coeficientes, incluindo w0, numa regressão polinomial de ordem 4, é igual a 995: ',  PolynomialFeatures(degree=4).fit(X1).n_output_features_)"
   ]
  },
  {
   "cell_type": "markdown",
   "id": "cd9b36bb5b4fa04f",
   "metadata": {
    "collapsed": false
   },
   "source": [
    "# c) i"
   ]
  },
  {
   "cell_type": "code",
   "execution_count": 15,
   "id": "bbcd83f9db3bea5a",
   "metadata": {
    "ExecuteTime": {
     "end_time": "2023-12-17T14:13:29.977161508Z",
     "start_time": "2023-12-17T14:13:29.868305901Z"
    },
    "collapsed": false
   },
   "outputs": [
    {
     "name": "stdout",
     "output_type": "stream",
     "text": [
      "i) No conjunto de treino, o coeficiente de determinação, R2, é igual a 0.51:   0.51\n",
      "ii) No conjunto de treino, o erro absoluto médio é igual a 73.32:  42.49\n"
     ]
    }
   ],
   "source": [
    "from sklearn.metrics import mean_absolute_error\n",
    "\n",
    "poly = PolynomialFeatures(degree=3).fit(X1)\n",
    "X1a = poly.transform(X1)\n",
    "X2a = poly.transform(X2)\n",
    "l = Lasso(random_state=42, alpha=0.01).fit(X1a,y1)\n",
    "y_pred = l.predict(X1a)\n",
    "\n",
    "mae = np.round(mean_absolute_error(y1, y_pred), 2)\n",
    "\n",
    "print(\"i) No conjunto de treino, o coeficiente de determinação, R2, é igual a 0.51:  \", round(l.score(X1a, y1), 2))\n",
    "print(\"ii) No conjunto de treino, o erro absoluto médio é igual a 73.32: \", mae)"
   ]
  },
  {
   "cell_type": "code",
   "execution_count": 16,
   "id": "e51f743de664d6b2",
   "metadata": {
    "ExecuteTime": {
     "end_time": "2023-12-17T14:13:41.134728057Z",
     "start_time": "2023-12-17T14:13:41.091937503Z"
    },
    "collapsed": false
   },
   "outputs": [
    {
     "name": "stdout",
     "output_type": "stream",
     "text": [
      "1a): 2\n",
      "1b): 2\n",
      "1c): 4\n",
      "\n",
      "2a): 1\n",
      "2b): 1\n",
      "\n",
      "3a): 4\n",
      "3b): 1\n",
      "3c): 1\n"
     ]
    }
   ],
   "source": [
    "QuestDic=pickle.load(open('A45977_Ficha4_Respostas.p','rb'))\n",
    "# Pergunta 1\n",
    "print('1a):', np.where(QuestDic['Q001'][0,:] == 1)[0][0] + 1)\n",
    "print('1b):', np.where(QuestDic['Q001'][1,:] == 1)[0][0] + 1)\n",
    "print('1c):', np.where(QuestDic['Q001'][2,:] == 1)[0][0] + 1)\n",
    "print()\n",
    "print('2a):', np.where(QuestDic['Q002'][0,:] == 1)[0][0] + 1)\n",
    "print('2b):', np.where(QuestDic['Q002'][1,:] == 1)[0][0] + 1)\n",
    "print()\n",
    "print('3a):', np.where(QuestDic['Q003'][0,:] == 1)[0][0] + 1)\n",
    "print('3b):', np.where(QuestDic['Q003'][1,:] == 1)[0][0] + 1)\n",
    "print('3c):', np.where(QuestDic['Q003'][2,:] == 1)[0][0] + 1)\n"
   ]
  },
  {
   "cell_type": "code",
   "execution_count": 74,
   "id": "14aeaac51763b2db",
   "metadata": {
    "ExecuteTime": {
     "end_time": "2023-12-17T14:11:12.463824537Z",
     "start_time": "2023-12-17T14:11:12.241035037Z"
    },
    "collapsed": false
   },
   "outputs": [],
   "source": []
  }
 ],
 "metadata": {
  "kernelspec": {
   "display_name": "Python 3",
   "language": "python",
   "name": "python3"
  },
  "language_info": {
   "codemirror_mode": {
    "name": "ipython",
    "version": 3
   },
   "file_extension": ".py",
   "mimetype": "text/x-python",
   "name": "python",
   "nbconvert_exporter": "python",
   "pygments_lexer": "ipython3",
   "version": "3.12.1"
  }
 },
 "nbformat": 4,
 "nbformat_minor": 5
}
